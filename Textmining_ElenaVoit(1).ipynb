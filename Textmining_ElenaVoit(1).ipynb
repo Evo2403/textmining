{
 "cells": [
  {
   "cell_type": "markdown",
   "metadata": {},
   "source": [
    "## ANALYSE DER DATEN"
   ]
  },
  {
   "cell_type": "code",
   "execution_count": 2,
   "metadata": {
    "collapsed": true
   },
   "outputs": [],
   "source": [
    "%matplotlib inline\n",
    "# pandas for data manipulation\n",
    "import pandas as pd\n",
    "pd.options.mode.chained_assignment = None\n",
    "# nltk for nlp\n",
    "from nltk.tokenize import word_tokenize, sent_tokenize\n",
    "from nltk.corpus import stopwords\n",
    "\n",
    "import treetaggerwrapper\n",
    "from string import punctuation\n",
    "from collections import Counter\n",
    "import re\n",
    "import numpy as np\n",
    "\n",
    "stopwords = set(stopwords.words('german'))\n",
    "ttagger = treetaggerwrapper.TreeTagger(TAGLANG='de',TAGDIR=r\"C:\\Users\\E6410\\Desktop\\textmining\\tree-tagger-windows-3.2\\TreeTagger\")\n",
    "            \n"
   ]
  },
  {
   "cell_type": "code",
   "execution_count": 3,
   "metadata": {
    "collapsed": false
   },
   "outputs": [],
   "source": [
    "import pandas\n",
    "#Öffnen der Daten\n",
    "data1=pandas.read_json(\"FOCUS.json\")\n",
    "data2=pandas.read_json(\"SPIEGEL.json\")\n",
    "data3=pandas.read_json(\"ZEITG.json\")\n",
    "data4=pandas.read_json(\"BILD.json\")\n"
   ]
  },
  {
   "cell_type": "code",
   "execution_count": 4,
   "metadata": {
    "collapsed": true
   },
   "outputs": [],
   "source": [
    "\n",
    "df1=pandas.read_json( (data1['articles']).to_json(),orient='index')\n",
    "df2=pandas.read_json( (data2['articles']).to_json(),orient='index')\n",
    "df3=pandas.read_json( (data3['articles']).to_json(),orient='index')\n",
    "df4=pandas.read_json( (data4['articles']).to_json(),orient='index')"
   ]
  },
  {
   "cell_type": "code",
   "execution_count": 5,
   "metadata": {
    "collapsed": true
   },
   "outputs": [],
   "source": [
    "#Hinzufügen von Nachrichtenquellen in die Spalte \"Author\"\n",
    "df1.loc[:, 'author'] = 'focus'\n",
    "df2.loc[:, 'author'] = 'spiegel'\n",
    "df3.loc[:, 'author'] = 'zeit'\n",
    "df4.loc[:, 'author'] = 'bild'"
   ]
  },
  {
   "cell_type": "code",
   "execution_count": 6,
   "metadata": {
    "collapsed": false
   },
   "outputs": [
    {
     "data": {
      "text/html": [
       "<div>\n",
       "<table border=\"1\" class=\"dataframe\">\n",
       "  <thead>\n",
       "    <tr style=\"text-align: right;\">\n",
       "      <th></th>\n",
       "      <th>author</th>\n",
       "      <th>description</th>\n",
       "      <th>publishedAt</th>\n",
       "      <th>title</th>\n",
       "      <th>url</th>\n",
       "      <th>urlToImage</th>\n",
       "    </tr>\n",
       "  </thead>\n",
       "  <tbody>\n",
       "    <tr>\n",
       "      <th>0</th>\n",
       "      <td>focus</td>\n",
       "      <td>Alle Rettungsversuche blieben erfolglos: Mit e...</td>\n",
       "      <td>2017-05-12T17:17:48Z</td>\n",
       "      <td>Deutschlands Schulden-Hauptstadt: Wähler sauer...</td>\n",
       "      <td>http://www.focus.de/politik/deutschland/landta...</td>\n",
       "      <td>http://p5.focus.de/img/fotos/crop7127876/42327...</td>\n",
       "    </tr>\n",
       "    <tr>\n",
       "      <th>1</th>\n",
       "      <td>focus</td>\n",
       "      <td>RB Leipzig gegen den FC Bayern am 33. Bundesli...</td>\n",
       "      <td>2017-05-13T10:36:20Z</td>\n",
       "      <td>RB Leipzig - FC Bayern im Live-Ticker: 1:0 - S...</td>\n",
       "      <td>http://www.focus.de/sport/fussball/bundesliga1...</td>\n",
       "      <td>http://p5.focus.de/img/fotos/crop7129520/33127...</td>\n",
       "    </tr>\n",
       "    <tr>\n",
       "      <th>2</th>\n",
       "      <td>focus</td>\n",
       "      <td>Mit der eigenwilligen Interpretation seines Ha...</td>\n",
       "      <td>2017-05-12T16:52:46Z</td>\n",
       "      <td>Uli Hoeneß hat seine Wirkung verloren: Botscha...</td>\n",
       "      <td>http://www.focus.de/sport/fussball/bundesliga1...</td>\n",
       "      <td>http://p5.focus.de/img/fotos/crop7127621/88527...</td>\n",
       "    </tr>\n",
       "    <tr>\n",
       "      <th>3</th>\n",
       "      <td>focus</td>\n",
       "      <td>Das Eigenheim ist die beste Geldanlage fürs Al...</td>\n",
       "      <td>2017-05-15T11:44:06Z</td>\n",
       "      <td>Trügerischer Immobilienboom: 86.000 Euro Verlu...</td>\n",
       "      <td>http://www.focus.de/immobilien/kaufen/postbank...</td>\n",
       "      <td>http://p5.focus.de/img/kaufen/crop7135258/4102...</td>\n",
       "    </tr>\n",
       "    <tr>\n",
       "      <th>4</th>\n",
       "      <td>focus</td>\n",
       "      <td>Die AfD ist am Sonntag mit 7,4 Prozent in den ...</td>\n",
       "      <td>2017-05-15T17:44:50Z</td>\n",
       "      <td>Gestaltung der Stimmzettel sorgt für Wirbel: A...</td>\n",
       "      <td>http://www.focus.de/politik/videos/gestaltung-...</td>\n",
       "      <td>http://p5.focus.de/img/fotos/crop7136934/57727...</td>\n",
       "    </tr>\n",
       "  </tbody>\n",
       "</table>\n",
       "</div>"
      ],
      "text/plain": [
       "  author                                        description  \\\n",
       "0  focus  Alle Rettungsversuche blieben erfolglos: Mit e...   \n",
       "1  focus  RB Leipzig gegen den FC Bayern am 33. Bundesli...   \n",
       "2  focus  Mit der eigenwilligen Interpretation seines Ha...   \n",
       "3  focus  Das Eigenheim ist die beste Geldanlage fürs Al...   \n",
       "4  focus  Die AfD ist am Sonntag mit 7,4 Prozent in den ...   \n",
       "\n",
       "            publishedAt                                              title  \\\n",
       "0  2017-05-12T17:17:48Z  Deutschlands Schulden-Hauptstadt: Wähler sauer...   \n",
       "1  2017-05-13T10:36:20Z  RB Leipzig - FC Bayern im Live-Ticker: 1:0 - S...   \n",
       "2  2017-05-12T16:52:46Z  Uli Hoeneß hat seine Wirkung verloren: Botscha...   \n",
       "3  2017-05-15T11:44:06Z  Trügerischer Immobilienboom: 86.000 Euro Verlu...   \n",
       "4  2017-05-15T17:44:50Z  Gestaltung der Stimmzettel sorgt für Wirbel: A...   \n",
       "\n",
       "                                                 url  \\\n",
       "0  http://www.focus.de/politik/deutschland/landta...   \n",
       "1  http://www.focus.de/sport/fussball/bundesliga1...   \n",
       "2  http://www.focus.de/sport/fussball/bundesliga1...   \n",
       "3  http://www.focus.de/immobilien/kaufen/postbank...   \n",
       "4  http://www.focus.de/politik/videos/gestaltung-...   \n",
       "\n",
       "                                          urlToImage  \n",
       "0  http://p5.focus.de/img/fotos/crop7127876/42327...  \n",
       "1  http://p5.focus.de/img/fotos/crop7129520/33127...  \n",
       "2  http://p5.focus.de/img/fotos/crop7127621/88527...  \n",
       "3  http://p5.focus.de/img/kaufen/crop7135258/4102...  \n",
       "4  http://p5.focus.de/img/fotos/crop7136934/57727...  "
      ]
     },
     "execution_count": 6,
     "metadata": {},
     "output_type": "execute_result"
    }
   ],
   "source": [
    "#Zusammenführung der Dataen\n",
    "frames = [df1, df2, df3,df4]\n",
    "result = pd.concat(frames, ignore_index=True)\n",
    "result[:5]"
   ]
  },
  {
   "cell_type": "code",
   "execution_count": 7,
   "metadata": {
    "collapsed": false
   },
   "outputs": [
    {
     "data": {
      "text/plain": [
       "(900, 6)"
      ]
     },
     "execution_count": 7,
     "metadata": {},
     "output_type": "execute_result"
    }
   ],
   "source": [
    "result.shape"
   ]
  },
  {
   "cell_type": "code",
   "execution_count": 8,
   "metadata": {
    "collapsed": true
   },
   "outputs": [],
   "source": [
    "train_data = result[~result['description'].isnull()]"
   ]
  },
  {
   "cell_type": "code",
   "execution_count": 9,
   "metadata": {
    "collapsed": false
   },
   "outputs": [],
   "source": [
    "train_data['len'] = result['description'].map(len)"
   ]
  },
  {
   "cell_type": "markdown",
   "metadata": {},
   "source": [
    "## Textverarbeitung: Tokenisierung"
   ]
  },
  {
   "cell_type": "markdown",
   "metadata": {},
   "source": [
    "Für jede Beschreibung:\n",
    "\n",
    " Brechen die Beschreibungen in Sätze und brechen dann die Sätze in tokens\n",
    " Interpunktion  und Stoppwörter werden entfernt.\n"
   ]
  },
  {
   "cell_type": "code",
   "execution_count": 10,
   "metadata": {
    "collapsed": true
   },
   "outputs": [],
   "source": [
    "import collections\n",
    "import nltk\n",
    "\n",
    "def closed_class(pos):\n",
    "    if pos[0] == '$':\n",
    "        return True\n",
    "    elif pos in [\"APPR\", \"APPRART\", \"APPO\", \"APZR\", \"ART\", \"KOUI\", \"KOUS\", \"KON\", \"KOKOM\", \"PDS\", \"PDAT\", \"PIS\", \"PIAT\", \"PIDAT\", \"PPER\", \"PPOSS\", \"PPOSAT\", \"PRELS\", \"PRELAT\", \"PRF\", \"PWS\", \"PWAT\", \"PWAV\", \"PAV\", \"PTKZU\", \"PTKNEG\", \"VAFIN\", \"VAIMP\", \"VAINF\", \"VAPP\", \"VMFIN\", \"VMINF\", \"VMPP\"]:\n",
    "        return True\n",
    "    \n",
    "    return False\n",
    "\n",
    "def tokenizer(text):\n",
    "    tlen = 0\n",
    "    wordcounts = collections.Counter()\n",
    "    \n",
    "    sentences = nltk.sent_tokenize(text)\n",
    "    for sent in sentences:\n",
    "        tokens = nltk.tokenize.word_tokenize(sent,language='german')\n",
    "        tags = ttagger.tag_text(tokens,tagonly=True) \n",
    "        tags2 = treetaggerwrapper.make_tags(tags);\n",
    "        lemmata_sent = [lemma for (word,pos,lemma) in tags2 if not closed_class(pos) and not word in stopwords]\n",
    "        #lemmata.extend(lemmata_sent)\n",
    "        tlen += len(lemmata_sent)\n",
    "        wordcounts.update(lemmata_sent)\n",
    "\n",
    "    return {w:(float(wordcounts[w])/float(tlen)) for w in wordcounts}\n",
    "\n"
   ]
  },
  {
   "cell_type": "markdown",
   "metadata": {},
   "source": [
    "Eine neue Spalte 'Token' wird mit der Map-Methode erstellt und auf die Spalte 'Beschreibung' angewendet.\n"
   ]
  },
  {
   "cell_type": "code",
   "execution_count": 11,
   "metadata": {
    "collapsed": true
   },
   "outputs": [],
   "source": [
    "train_data['tokens'] = result['description'].map(tokenizer)"
   ]
  },
  {
   "cell_type": "markdown",
   "metadata": {},
   "source": [
    "Der Tokenizer wurde auf jede Beschreibung über alle Zeilen angewendet. Jeder resultierende Wert wird dann in die Spalte \"Token\" gesetzt, die nach der Zuordnung erstellt wird.\n"
   ]
  },
  {
   "cell_type": "code",
   "execution_count": 12,
   "metadata": {
    "collapsed": false
   },
   "outputs": [
    {
     "name": "stdout",
     "output_type": "stream",
     "text": [
      "description: Alle Rettungsversuche blieben erfolglos: Mit einer Pro-Kopf-Verschuldung von knapp 10.000 Euro steckt Oberhausen tiefer in den roten Zahlen als je zuvor. Die Verzweiflung wächst überall – vor allem in der Innenstadt, die langsam ausblutet.\n",
      "tokens: {'wachsen': 0.047619047619047616, 'Euro': 0.047619047619047616, 'Oberhausen': 0.047619047619047616, 'bleiben': 0.047619047619047616, 'Zahl': 0.047619047619047616, 'Rettungsversuch': 0.047619047619047616, 'zuvor': 0.047619047619047616, 'langsam': 0.047619047619047616, 'erfolglos': 0.047619047619047616, 'Verzweiflung': 0.047619047619047616, 'rot': 0.047619047619047616, 'knapp': 0.047619047619047616, 'Innenstadt': 0.047619047619047616, 'überall': 0.047619047619047616, '–': 0.047619047619047616, 'stecken': 0.047619047619047616, '@card@': 0.047619047619047616, 'je': 0.047619047619047616, 'ausbluten': 0.047619047619047616, 'tief': 0.047619047619047616, 'Pro-Kopf-Verschuldung': 0.047619047619047616}\n",
      "\n",
      "description: RB Leipzig gegen den FC Bayern am 33. Bundesliga-Spieltag, das hätte ein echter Kracher im Titelkampf sein können. So aber wird das Spiel zum Schaulaufen des Meisters. Würze ist dennoch drin: Der Aufsteiger kann einen Bayern-Rekord knacken. Der Live-Ticker.\n",
      "tokens: {'Leipzig': 0.05263157894736842, 'Titelkampf': 0.05263157894736842, 'Live-Ticker': 0.05263157894736842, '33': 0.05263157894736842, 'dennoch': 0.05263157894736842, 'FC': 0.05263157894736842, 'Bayern': 0.05263157894736842, 'Meister': 0.05263157894736842, 'Bundesliga-Spieltag': 0.05263157894736842, 'Kracher': 0.05263157894736842, 'Würze': 0.05263157894736842, 'Bayern-Rekord': 0.05263157894736842, 'so': 0.05263157894736842, 'Schaulaufen': 0.05263157894736842, 'Spiel': 0.05263157894736842, 'echt': 0.05263157894736842, 'RB': 0.05263157894736842, 'Aufsteiger': 0.05263157894736842, 'knacken': 0.05263157894736842}\n",
      "\n",
      "description: Mit der eigenwilligen Interpretation seines Haftantritts nach Steuerhinterziehung ruft Uli Hoeneß ausgerechnet nach einem Auftritt in der Steueroase Liechtenstein Verwunderung hervor. Die Empörung zeigt: Rückhalt hat der Bayern-Präsident in moralischen Fragen nicht mehr zu erwarten.\n",
      "tokens: {'Frage': 0.047619047619047616, 'eigenwillig': 0.047619047619047616, 'Empörung': 0.047619047619047616, 'Bayern-Präsident': 0.047619047619047616, 'Liechtenstein': 0.047619047619047616, 'Hoeneß': 0.047619047619047616, 'Steuerhinterziehung': 0.047619047619047616, 'Interpretation': 0.047619047619047616, 'moralisch': 0.047619047619047616, 'Steueroase': 0.047619047619047616, 'hervor': 0.047619047619047616, 'Auftritt': 0.047619047619047616, 'rufen': 0.047619047619047616, 'ausgerechnet': 0.047619047619047616, 'Verwunderung': 0.047619047619047616, 'Haftantritt': 0.047619047619047616, 'erwarten': 0.047619047619047616, 'Rückhalt': 0.047619047619047616, 'zeigen': 0.047619047619047616, 'mehr': 0.047619047619047616, 'Uli': 0.047619047619047616}\n",
      "\n",
      "description: Das Eigenheim ist die beste Geldanlage fürs Alter - denkste! In knapp der Hälfte aller deutschen Landkreise werden die Preise bis 2030 sinken, sagt eine neue Studie des Hamburgischen Weltwirtschafts-Instituts (HHWI). Focus Online zeigt, ob auch Ihr Wohnort dabei ist.\n",
      "tokens: {'knapp': 0.045454545454545456, 'Wohnort': 0.045454545454545456, 'neu': 0.045454545454545456, 'Focus': 0.045454545454545456, 'denkste': 0.045454545454545456, 'Eigenheim': 0.045454545454545456, 'Hälfte': 0.045454545454545456, 'Online': 0.045454545454545456, 'Preis': 0.045454545454545456, '@card@': 0.045454545454545456, 'Studie': 0.045454545454545456, 'Geldanlage': 0.045454545454545456, 'Landkreis': 0.045454545454545456, 'deutsch': 0.045454545454545456, 'Hamburgischen': 0.045454545454545456, 'HHWI': 0.045454545454545456, 'sinken': 0.045454545454545456, 'sagen': 0.045454545454545456, 'gut': 0.045454545454545456, 'Alter': 0.045454545454545456, 'zeigen': 0.045454545454545456, 'Weltwirtschafts-Instituts': 0.045454545454545456}\n",
      "\n",
      "description: Die AfD ist am Sonntag mit 7,4 Prozent in den nordrhein-westfälischen Landtag eingezogen. Doch einige Leute halten dieses Ergebnis für zu gering, sie beklagen angeblichen Wahlbetrug - die Vorwürfe sind jedoch schnell entkräftet.\n",
      "tokens: {'einziehen': 0.05555555555555555, 'angeblich': 0.05555555555555555, 'Wahlbetrug': 0.05555555555555555, 'Leute': 0.05555555555555555, 'schnell': 0.05555555555555555, 'gering': 0.05555555555555555, 'halten': 0.05555555555555555, 'jedoch': 0.05555555555555555, 'Sonntag': 0.05555555555555555, 'entkräften': 0.05555555555555555, '7,4': 0.05555555555555555, 'Prozent': 0.05555555555555555, 'beklagen': 0.05555555555555555, 'Ergebnis': 0.05555555555555555, 'Landtag': 0.05555555555555555, 'AfD': 0.05555555555555555, 'Vorwurf': 0.05555555555555555, 'nordrhein-westfälisch': 0.05555555555555555}\n",
      "\n"
     ]
    }
   ],
   "source": [
    "#  Tokenierung für die ersten 5 Beschreibungen(Descriptions):\n",
    "\n",
    "for descripition, tokens in zip(train_data['description'].head(5), train_data['tokens'].head(5)):\n",
    "    print('description:', descripition)\n",
    "    print('tokens:', tokens)\n",
    "    print()"
   ]
  },
  {
   "cell_type": "markdown",
   "metadata": {},
   "source": [
    "Die Token werden nach Kategorie gruppiert, eine Wortanzahl extrahiert und die Top 10 häufigsten Token angezeigt.\n"
   ]
  },
  {
   "cell_type": "code",
   "execution_count": 13,
   "metadata": {
    "collapsed": false
   },
   "outputs": [
    {
     "name": "stdout",
     "output_type": "stream",
     "text": [
      "author: bild\n",
      "top 10 keywords: [('–', 197), ('@card@', 51), ('***', 45), ('BILDplus', 45), ('Inhalt', 45), ('Berlin', 32), ('Frau', 27), ('Mann', 22), ('Jahr', 19), ('gehen', 19)]\n",
      "---\n",
      "author: spiegel\n",
      "top 10 keywords: [('neu', 32), ('Trump', 24), ('deutsch', 23), ('groß', 21), ('Präsident', 21), ('Jahr', 19), ('Donald', 19), ('Macron', 16), ('Deutschland', 15), ('Europa', 15)]\n",
      "---\n",
      "author: zeit\n",
      "top 10 keywords: [('erst', 22), ('–', 21), ('Präsident', 21), ('mehr', 15), ('neu', 14), ('sagen', 14), ('Jahr', 14), ('@card@', 14), ('zeigen', 13), ('Mensch', 13)]\n",
      "---\n",
      "author: focus\n",
      "top 10 keywords: [('@card@', 31), ('Online', 22), ('SPD', 22), ('Focus', 22), ('geben', 22), ('Jahr', 22), ('groß', 22), ('neu', 20), ('zeigen', 20), ('gehen', 20)]\n",
      "---\n"
     ]
    }
   ],
   "source": [
    "def keywords(author):\n",
    "    tokens = train_data[train_data['author'] == author]['tokens']\n",
    "    alltokens = []\n",
    "    for token_list in tokens:\n",
    "        alltokens += token_list\n",
    "    counter = Counter(alltokens)\n",
    "    return counter.most_common(10)\n",
    "\n",
    "\n",
    "for author in set(train_data['author']):\n",
    "    print('author:', author)\n",
    "    print('top 10 keywords:', keywords(author))\n",
    "    print('---')"
   ]
  },
  {
   "cell_type": "markdown",
   "metadata": {},
   "source": [
    "Das Extrahieren der Top 10 häufigsten Wörter pro Kategorie ist einfach und kann auf wichtige Schlüsselwörter hinweisen.\n",
    "\n",
    "Allerdings, obwohl die Beschreibungen vorher verarbeitet und die Stoppwörter entfernt wurden, sieht man Worte, die sehr generisch sind (z. B. geben, neu, Jahr, erst) und keine große Bedeutung tragen, die ein Document beschreiben kann.\n",
    "\n",
    "Als erster Ansatz, dies zu verhindern, wird tf-idf verwendet\n"
   ]
  },
  {
   "cell_type": "markdown",
   "metadata": {},
   "source": [
    "## Textverarbeitung: Tf-idf-Maß"
   ]
  },
  {
   "cell_type": "markdown",
   "metadata": {},
   "source": [
    "Tf-idf steht für \"term frequency\" (Vorkommenshäufigkeit) und \"inverse document frequency\" (inverse Dokumenthäufigkeit). Es ist eine numerische Statistik, die darauf hindeutet, wie wichtig ein Wort für ein Dokument oder ein Korpus ist.\n",
    "\n",
    "Tf-idf agiert als Gewichtungsschema, um relevante Wörter in einem Dokument zu extrahieren.\n",
    "\n",
    "Tf (t, d) ist die Termfrequenz von t in dem Dokument d (d.h. wie oft der Token t in der Beschreibung d erscheint).\n",
    "\n",
    "Idf (t) ist die inverse Dokumentfrequenz des Termes t.\n",
    "\n",
    "Die Berechnung der tfidf-Matrix erfolgt mit der TfidfVectorizer-Methode von scikit-learn\n"
   ]
  },
  {
   "cell_type": "code",
   "execution_count": 14,
   "metadata": {
    "collapsed": true
   },
   "outputs": [],
   "source": [
    "from sklearn.feature_extraction.text import TfidfVectorizer\n",
    "\n",
    " #TfidfVectorizer verarbeitet die Beschreibungen mit dem oben definierten Tokenizer:\n",
    "\n",
    "tfidf_vectorizer = TfidfVectorizer(tokenizer=tokenizer)\n",
    "tfidf_counts = tfidf_vectorizer.fit_transform(list(train_data['description']))"
   ]
  },
  {
   "cell_type": "markdown",
   "metadata": {},
   "source": [
    "tfidf_counts ist eine tfidf-Matrix.\n"
   ]
  },
  {
   "cell_type": "code",
   "execution_count": 15,
   "metadata": {
    "collapsed": false
   },
   "outputs": [
    {
     "data": {
      "text/plain": [
       "(900, 5303)"
      ]
     },
     "execution_count": 15,
     "metadata": {},
     "output_type": "execute_result"
    }
   ],
   "source": [
    "tfidf_counts.shape"
   ]
  },
  {
   "cell_type": "markdown",
   "metadata": {},
   "source": [
    "Erstellung von einem Dictionary , das die Token auf ihre tfidf-Werte abbildet"
   ]
  },
  {
   "cell_type": "code",
   "execution_count": 16,
   "metadata": {
    "collapsed": false
   },
   "outputs": [],
   "source": [
    "tfidf = dict(zip(tfidf_vectorizer.get_feature_names(),tfidf_vectorizer.idf_))\n",
    "tfidf = pd.DataFrame(columns=['tfidf']).from_dict(dict(tfidf), orient='index')\n",
    "tfidf.columns = ['tfidf']"
   ]
  },
  {
   "cell_type": "markdown",
   "metadata": {},
   "source": [
    " 30 Token, die die niedrigsten tfidf Scores haben\n"
   ]
  },
  {
   "cell_type": "code",
   "execution_count": 17,
   "metadata": {
    "collapsed": false
   },
   "outputs": [
    {
     "data": {
      "text/html": [
       "<div>\n",
       "<table border=\"1\" class=\"dataframe\">\n",
       "  <thead>\n",
       "    <tr style=\"text-align: right;\">\n",
       "      <th></th>\n",
       "      <th>tfidf</th>\n",
       "    </tr>\n",
       "  </thead>\n",
       "  <tbody>\n",
       "    <tr>\n",
       "      <th>–</th>\n",
       "      <td>2.331235</td>\n",
       "    </tr>\n",
       "    <tr>\n",
       "      <th>@card@</th>\n",
       "      <td>3.218538</td>\n",
       "    </tr>\n",
       "    <tr>\n",
       "      <th>&lt;UNKNOWN&gt;</th>\n",
       "      <td>3.337597</td>\n",
       "    </tr>\n",
       "    <tr>\n",
       "      <th>Jahr</th>\n",
       "      <td>3.486017</td>\n",
       "    </tr>\n",
       "    <tr>\n",
       "      <th>neu</th>\n",
       "      <td>3.513046</td>\n",
       "    </tr>\n",
       "    <tr>\n",
       "      <th>deutsch</th>\n",
       "      <td>3.613851</td>\n",
       "    </tr>\n",
       "    <tr>\n",
       "      <th>groß</th>\n",
       "      <td>3.725968</td>\n",
       "    </tr>\n",
       "    <tr>\n",
       "      <th>gehen</th>\n",
       "      <td>3.743062</td>\n",
       "    </tr>\n",
       "    <tr>\n",
       "      <th>geben</th>\n",
       "      <td>3.760454</td>\n",
       "    </tr>\n",
       "    <tr>\n",
       "      <th>erst</th>\n",
       "      <td>3.852262</td>\n",
       "    </tr>\n",
       "    <tr>\n",
       "      <th>kommen</th>\n",
       "      <td>3.891482</td>\n",
       "    </tr>\n",
       "    <tr>\n",
       "      <th>trump</th>\n",
       "      <td>3.911685</td>\n",
       "    </tr>\n",
       "    <tr>\n",
       "      <th>menschen</th>\n",
       "      <td>3.932304</td>\n",
       "    </tr>\n",
       "    <tr>\n",
       "      <th>stehen</th>\n",
       "      <td>3.974864</td>\n",
       "    </tr>\n",
       "    <tr>\n",
       "      <th>bildplus</th>\n",
       "      <td>3.974864</td>\n",
       "    </tr>\n",
       "    <tr>\n",
       "      <th>***</th>\n",
       "      <td>3.974864</td>\n",
       "    </tr>\n",
       "    <tr>\n",
       "      <th>zeigen</th>\n",
       "      <td>4.019316</td>\n",
       "    </tr>\n",
       "    <tr>\n",
       "      <th>zwei</th>\n",
       "      <td>4.065836</td>\n",
       "    </tr>\n",
       "    <tr>\n",
       "      <th>spd</th>\n",
       "      <td>4.114626</td>\n",
       "    </tr>\n",
       "    <tr>\n",
       "      <th>Präsident</th>\n",
       "      <td>4.139944</td>\n",
       "    </tr>\n",
       "    <tr>\n",
       "      <th>Deutschland</th>\n",
       "      <td>4.165919</td>\n",
       "    </tr>\n",
       "    <tr>\n",
       "      <th>Frau</th>\n",
       "      <td>4.219986</td>\n",
       "    </tr>\n",
       "    <tr>\n",
       "      <th>mehr</th>\n",
       "      <td>4.219986</td>\n",
       "    </tr>\n",
       "    <tr>\n",
       "      <th>gut</th>\n",
       "      <td>4.277145</td>\n",
       "    </tr>\n",
       "    <tr>\n",
       "      <th>sagen</th>\n",
       "      <td>4.306998</td>\n",
       "    </tr>\n",
       "    <tr>\n",
       "      <th>Berlin</th>\n",
       "      <td>4.306998</td>\n",
       "    </tr>\n",
       "    <tr>\n",
       "      <th>sehen</th>\n",
       "      <td>4.337769</td>\n",
       "    </tr>\n",
       "    <tr>\n",
       "      <th>machen</th>\n",
       "      <td>4.402308</td>\n",
       "    </tr>\n",
       "    <tr>\n",
       "      <th>us-präsident</th>\n",
       "      <td>4.402308</td>\n",
       "    </tr>\n",
       "    <tr>\n",
       "      <th>weit</th>\n",
       "      <td>4.402308</td>\n",
       "    </tr>\n",
       "  </tbody>\n",
       "</table>\n",
       "</div>"
      ],
      "text/plain": [
       "                 tfidf\n",
       "–             2.331235\n",
       "@card@        3.218538\n",
       "<UNKNOWN>     3.337597\n",
       "Jahr          3.486017\n",
       "neu           3.513046\n",
       "deutsch       3.613851\n",
       "groß          3.725968\n",
       "gehen         3.743062\n",
       "geben         3.760454\n",
       "erst          3.852262\n",
       "kommen        3.891482\n",
       "trump         3.911685\n",
       "menschen      3.932304\n",
       "stehen        3.974864\n",
       "bildplus      3.974864\n",
       "***           3.974864\n",
       "zeigen        4.019316\n",
       "zwei          4.065836\n",
       "spd           4.114626\n",
       "Präsident     4.139944\n",
       "Deutschland   4.165919\n",
       "Frau          4.219986\n",
       "mehr          4.219986\n",
       "gut           4.277145\n",
       "sagen         4.306998\n",
       "Berlin        4.306998\n",
       "sehen         4.337769\n",
       "machen        4.402308\n",
       "us-präsident  4.402308\n",
       "weit          4.402308"
      ]
     },
     "execution_count": 17,
     "metadata": {},
     "output_type": "execute_result"
    }
   ],
   "source": [
    "tfidf.sort_values(by=['tfidf'], ascending=True).head(30)"
   ]
  },
  {
   "cell_type": "markdown",
   "metadata": {},
   "source": [
    "Wir sehen eine Liste von sehr generischen Worten. Diese sind in vielen Beschreibungen sehr verbreitet, daher vergibt Tfidf eine niedrige Punktzahl für niedrige Relevanz.\n"
   ]
  },
  {
   "cell_type": "markdown",
   "metadata": {},
   "source": [
    "Es folgen 30 Wörter mit den höchsten TFidf-Scores :"
   ]
  },
  {
   "cell_type": "code",
   "execution_count": 18,
   "metadata": {
    "collapsed": false
   },
   "outputs": [
    {
     "data": {
      "text/html": [
       "<div>\n",
       "<table border=\"1\" class=\"dataframe\">\n",
       "  <thead>\n",
       "    <tr style=\"text-align: right;\">\n",
       "      <th></th>\n",
       "      <th>tfidf</th>\n",
       "    </tr>\n",
       "  </thead>\n",
       "  <tbody>\n",
       "    <tr>\n",
       "      <th>Arbeitsbedingung</th>\n",
       "      <td>7.110358</td>\n",
       "    </tr>\n",
       "    <tr>\n",
       "      <th>Entmachtung</th>\n",
       "      <td>7.110358</td>\n",
       "    </tr>\n",
       "    <tr>\n",
       "      <th>kranheit</th>\n",
       "      <td>7.110358</td>\n",
       "    </tr>\n",
       "    <tr>\n",
       "      <th>beckin­gen</th>\n",
       "      <td>7.110358</td>\n",
       "    </tr>\n",
       "    <tr>\n",
       "      <th>Berufungsprozess</th>\n",
       "      <td>7.110358</td>\n",
       "    </tr>\n",
       "    <tr>\n",
       "      <th>Sondersendung</th>\n",
       "      <td>7.110358</td>\n",
       "    </tr>\n",
       "    <tr>\n",
       "      <th>sehen.flammeninferno</th>\n",
       "      <td>7.110358</td>\n",
       "    </tr>\n",
       "    <tr>\n",
       "      <th>entlang</th>\n",
       "      <td>7.110358</td>\n",
       "    </tr>\n",
       "    <tr>\n",
       "      <th>pfiffig</th>\n",
       "      <td>7.110358</td>\n",
       "    </tr>\n",
       "    <tr>\n",
       "      <th>28-jährig</th>\n",
       "      <td>7.110358</td>\n",
       "    </tr>\n",
       "    <tr>\n",
       "      <th>belfast</th>\n",
       "      <td>7.110358</td>\n",
       "    </tr>\n",
       "    <tr>\n",
       "      <th>bannen</th>\n",
       "      <td>7.110358</td>\n",
       "    </tr>\n",
       "    <tr>\n",
       "      <th>polizei</th>\n",
       "      <td>7.110358</td>\n",
       "    </tr>\n",
       "    <tr>\n",
       "      <th>viertelfinaleinzug</th>\n",
       "      <td>7.110358</td>\n",
       "    </tr>\n",
       "    <tr>\n",
       "      <th>heidi</th>\n",
       "      <td>7.110358</td>\n",
       "    </tr>\n",
       "    <tr>\n",
       "      <th>Zeithorizont</th>\n",
       "      <td>7.110358</td>\n",
       "    </tr>\n",
       "    <tr>\n",
       "      <th>Rekordergebnis</th>\n",
       "      <td>7.110358</td>\n",
       "    </tr>\n",
       "    <tr>\n",
       "      <th>Leiharbeit</th>\n",
       "      <td>7.110358</td>\n",
       "    </tr>\n",
       "    <tr>\n",
       "      <th>anschreien</th>\n",
       "      <td>7.110358</td>\n",
       "    </tr>\n",
       "    <tr>\n",
       "      <th>bundesliga</th>\n",
       "      <td>7.110358</td>\n",
       "    </tr>\n",
       "    <tr>\n",
       "      <th>abstimmen</th>\n",
       "      <td>7.110358</td>\n",
       "    </tr>\n",
       "    <tr>\n",
       "      <th>Präsidentschaft</th>\n",
       "      <td>7.110358</td>\n",
       "    </tr>\n",
       "    <tr>\n",
       "      <th>gegeneinander</th>\n",
       "      <td>7.110358</td>\n",
       "    </tr>\n",
       "    <tr>\n",
       "      <th>aufsehen</th>\n",
       "      <td>7.110358</td>\n",
       "    </tr>\n",
       "    <tr>\n",
       "      <th>kosen|kosten</th>\n",
       "      <td>7.110358</td>\n",
       "    </tr>\n",
       "    <tr>\n",
       "      <th>fragwürdig</th>\n",
       "      <td>7.110358</td>\n",
       "    </tr>\n",
       "    <tr>\n",
       "      <th>genauso</th>\n",
       "      <td>7.110358</td>\n",
       "    </tr>\n",
       "    <tr>\n",
       "      <th>Anwender</th>\n",
       "      <td>7.110358</td>\n",
       "    </tr>\n",
       "    <tr>\n",
       "      <th>bürgerkrieg</th>\n",
       "      <td>7.110358</td>\n",
       "    </tr>\n",
       "    <tr>\n",
       "      <th>zuschlagen</th>\n",
       "      <td>7.110358</td>\n",
       "    </tr>\n",
       "  </tbody>\n",
       "</table>\n",
       "</div>"
      ],
      "text/plain": [
       "                         tfidf\n",
       "Arbeitsbedingung      7.110358\n",
       "Entmachtung           7.110358\n",
       "kranheit              7.110358\n",
       "beckin­gen            7.110358\n",
       "Berufungsprozess      7.110358\n",
       "Sondersendung         7.110358\n",
       "sehen.flammeninferno  7.110358\n",
       "entlang               7.110358\n",
       "pfiffig               7.110358\n",
       "28-jährig             7.110358\n",
       "belfast               7.110358\n",
       "bannen                7.110358\n",
       "polizei               7.110358\n",
       "viertelfinaleinzug    7.110358\n",
       "heidi                 7.110358\n",
       "Zeithorizont          7.110358\n",
       "Rekordergebnis        7.110358\n",
       "Leiharbeit            7.110358\n",
       "anschreien            7.110358\n",
       "bundesliga            7.110358\n",
       "abstimmen             7.110358\n",
       "Präsidentschaft       7.110358\n",
       "gegeneinander         7.110358\n",
       "aufsehen              7.110358\n",
       "kosen|kosten          7.110358\n",
       "fragwürdig            7.110358\n",
       "genauso               7.110358\n",
       "Anwender              7.110358\n",
       "bürgerkrieg           7.110358\n",
       "zuschlagen            7.110358"
      ]
     },
     "execution_count": 18,
     "metadata": {},
     "output_type": "execute_result"
    }
   ],
   "source": [
    "tfidf.sort_values(by=['tfidf'], ascending=False).head(30)"
   ]
  },
  {
   "cell_type": "markdown",
   "metadata": {},
   "source": [
    "Die Wörter mit höchsten TFidf-Scores kommen seltener in einem Dokumment vor. Diese Worte tragen natürlich mehr Bedeutung für die gegebene Beschreibung und können das zugrunde liegende Thema skizzieren."
   ]
  },
  {
   "cell_type": "markdown",
   "metadata": {},
   "source": [
    "### Wordcloud"
   ]
  },
  {
   "cell_type": "code",
   "execution_count": null,
   "metadata": {
    "collapsed": true
   },
   "outputs": [],
   "source": []
  },
  {
   "cell_type": "code",
   "execution_count": 19,
   "metadata": {
    "collapsed": true
   },
   "outputs": [],
   "source": [
    "%matplotlib inline\n",
    "import matplotlib.pyplot as plt\n",
    "from wordcloud import WordCloud\n",
    "import re"
   ]
  },
  {
   "cell_type": "code",
   "execution_count": 20,
   "metadata": {
    "collapsed": false
   },
   "outputs": [
    {
     "data": {
      "image/png": "[encoded data removed]",
      "text/plain": [
       "<matplotlib.figure.Figure at 0xf1a42b0>"
      ]
     },
     "metadata": {},
     "output_type": "display_data"
    }
   ],
   "source": [
    "text=(str( train_data.tokens))\n",
    "\n",
    "wordcloud = WordCloud().generate(text)\n",
    "plt.imshow(wordcloud)\n",
    "plt.axis(\"off\");"
   ]
  },
  {
   "cell_type": "markdown",
   "metadata": {},
   "source": [
    "## Automatische Klassifizierung der Texte"
   ]
  },
  {
   "cell_type": "code",
   "execution_count": 21,
   "metadata": {
    "collapsed": true
   },
   "outputs": [],
   "source": [
    "#öffnen Testdatensatzes\n",
    "from pandas import read_csv\n",
    "test = pandas.read_csv('test.csv',encoding = \"ISO-8859-1\")"
   ]
  },
  {
   "cell_type": "markdown",
   "metadata": {},
   "source": [
    "Es wird einen CountVectorizer instanziert und dann die methode fit_transform aufgerufen, was zwei Dinge macht: er lernt das Vokabular des Korpus und extrahiert Wortzählungsmerkmale.\n"
   ]
  },
  {
   "cell_type": "code",
   "execution_count": 22,
   "metadata": {
    "collapsed": true
   },
   "outputs": [],
   "source": [
    "import numpy\n",
    "from sklearn.feature_extraction.text import CountVectorizer\n",
    "\n",
    "count_vectorizer = CountVectorizer()\n",
    "counts = count_vectorizer.fit_transform(list(train_data['description']))"
   ]
  },
  {
   "cell_type": "markdown",
   "metadata": {},
   "source": [
    "Die Berechnung der tfidf-Matrix erfolgt mit der TfidfTransformer-Methode von scikit-learn. Es wird ein Dictionary erstellt, dass die Token auf ihre tfidf-Werte abbildet"
   ]
  },
  {
   "cell_type": "code",
   "execution_count": 23,
   "metadata": {
    "collapsed": true
   },
   "outputs": [],
   "source": [
    "from sklearn.feature_extraction.text import TfidfTransformer\n",
    "\n",
    "tf_transformer = TfidfTransformer(use_idf=False).fit(counts)\n",
    "train_tf = tf_transformer.transform(counts)"
   ]
  },
  {
   "cell_type": "markdown",
   "metadata": {},
   "source": [
    "### Naive Bayes"
   ]
  },
  {
   "cell_type": "markdown",
   "metadata": {},
   "source": [
    "Es wird ein Naive Bayes-Klassifikator eingesetzt, um aus den Features zu lernen. Ein Naive Bayes-Klassifikator wendet den Satz von Bayes an.Er ordnet jedes Objekt(in diesem Fall Wort) der Klasse zu, zu der es mit der größten Wahrscheinlichkeit gehört, oder bei der durch die Einordnung die wenigsten Kosten entstehen. Genau genommen handelt es sich um eine mathematische Funktion, die jedem Punkt eines Merkmalsraums eine Klasse zuordnet.\n"
   ]
  },
  {
   "cell_type": "code",
   "execution_count": 24,
   "metadata": {
    "collapsed": false
   },
   "outputs": [
    {
     "data": {
      "text/plain": [
       "MultinomialNB(alpha=1.0, class_prior=None, fit_prior=True)"
      ]
     },
     "execution_count": 24,
     "metadata": {},
     "output_type": "execute_result"
    }
   ],
   "source": [
    "from sklearn.naive_bayes import MultinomialNB\n",
    "\n",
    "classifier = MultinomialNB()\n",
    "targets = train_data['author'].values\n",
    "classifier.fit(counts, targets)"
   ]
  },
  {
   "cell_type": "markdown",
   "metadata": {},
   "source": [
    "Ausprobiere:einige Beispiele werden erstellt und auf ihnen Vorhersagen für dazugehörihen Author gemacht ."
   ]
  },
  {
   "cell_type": "code",
   "execution_count": 25,
   "metadata": {
    "collapsed": false
   },
   "outputs": [
    {
     "data": {
      "text/plain": [
       "array(['spiegel', 'focus', 'bild', 'zeit'], \n",
       "      dtype='<U7')"
      ]
     },
     "execution_count": 25,
     "metadata": {},
     "output_type": "execute_result"
    }
   ],
   "source": [
    "examples = ['Mehr Konsum, mehr Exporte, mehr Investitionen: Zum Jahresbeginn hat sich das Wachstum in Deutschland beschleunigt. Das lag auch am Wetter',\n",
    "            \"Ältere Menschen in Nordrhein-Westfalen müssen seit einigen Wochen verstärkt fürchten, auf dem Friedhof Opfer eines Raubüberfalls zu werden\",\n",
    "            \"Bremen – Großeinsatz für die Polizei in Bremer Einkaufszentrum Waterfront.Ein Mann (29) ist dort am Samstag um 19.40 Uhr niedergestochenund schwer verletzt worden.\",\n",
    "            \"NRW-Regierungschefin Kraft schließt ein Bündnis mit der Linken aus. Bei einem Wahlkampfauftritt von Sahra Wagenknecht zeigt sich: Das könnte der Linken Stimmen bringen\"\n",
    "           ]\n",
    "example_counts = count_vectorizer.transform(examples)\n",
    "predictions = classifier.predict(example_counts)\n",
    "predictions"
   ]
  },
  {
   "cell_type": "code",
   "execution_count": 26,
   "metadata": {
    "collapsed": true
   },
   "outputs": [],
   "source": [
    "from sklearn.feature_extraction.text import TfidfTransformer"
   ]
  },
  {
   "cell_type": "markdown",
   "metadata": {},
   "source": [
    " Pipeline wird verwendet, um die Feature-Extraktion und Klassifizierung in eine Operation zu verbinden."
   ]
  },
  {
   "cell_type": "code",
   "execution_count": 27,
   "metadata": {
    "collapsed": false
   },
   "outputs": [
    {
     "data": {
      "text/plain": [
       "array(['spiegel', 'focus', 'bild', 'zeit'], \n",
       "      dtype='<U7')"
      ]
     },
     "execution_count": 27,
     "metadata": {},
     "output_type": "execute_result"
    }
   ],
   "source": [
    "from sklearn.pipeline import Pipeline\n",
    "\n",
    "pipeline = Pipeline([\n",
    "    ('vectorizer',  CountVectorizer()),\n",
    "    ('tfidf_transformer',  TfidfTransformer()),\n",
    "    ('classifier',  MultinomialNB()) ])\n",
    "\n",
    "pipeline.fit(train_data['description'].values, train_data['author'].values)\n",
    "pipeline.predict(examples)"
   ]
  },
  {
   "cell_type": "markdown",
   "metadata": {},
   "source": [
    "#### Bewertung der Leistung auf einer Testprobe "
   ]
  },
  {
   "cell_type": "code",
   "execution_count": 28,
   "metadata": {
    "collapsed": false
   },
   "outputs": [
    {
     "data": {
      "text/plain": [
       "0.67000000000000004"
      ]
     },
     "execution_count": 28,
     "metadata": {},
     "output_type": "execute_result"
    }
   ],
   "source": [
    "from sklearn import metrics\n",
    "import numpy as np\n",
    "\n",
    "\n",
    "\n",
    "docs_test = test.description\n",
    "\n",
    "\n",
    "predicted = pipeline.predict(docs_test)\n",
    "np.mean(predicted == test.author)"
   ]
  },
  {
   "cell_type": "markdown",
   "metadata": {},
   "source": [
    "In diesem Fall ergibt sich eine Genauigkeit von 66%. \n",
    "Um die Ergebnis zu verebessern wird das gleiche Verfahren unter Verwendung eines linearen Support-Vektor (Support-Vektor-Maschine (SVM))getestet. \n",
    "Das Lehrmodell kann einfach geändert werden,in dem ein anderes Klassifikationsobjekt in der Pipeline eingesetzt wird:"
   ]
  },
  {
   "cell_type": "code",
   "execution_count": 29,
   "metadata": {
    "collapsed": false
   },
   "outputs": [
    {
     "data": {
      "text/plain": [
       "0.68999999999999995"
      ]
     },
     "execution_count": 29,
     "metadata": {},
     "output_type": "execute_result"
    }
   ],
   "source": [
    "from sklearn.linear_model import SGDClassifier\n",
    "text_clf = Pipeline([('count_vectorizer', CountVectorizer()),\n",
    "                     ('tfidf_transformer',  TfidfTransformer()),\n",
    "                      ('clf', SGDClassifier(loss='hinge', penalty='l2',\n",
    "                                            alpha=1e-3, n_iter=5, random_state=42)), ])\n",
    "t = text_clf.fit(train_data['description'].values, train_data['author'].values)\n",
    "predicted = text_clf.predict(docs_test)\n",
    "np.mean(predicted == test.author) \n"
   ]
  },
  {
   "cell_type": "code",
   "execution_count": 30,
   "metadata": {
    "collapsed": false
   },
   "outputs": [
    {
     "name": "stdout",
     "output_type": "stream",
     "text": [
      "             precision    recall  f1-score   support\n",
      "\n",
      "       bild       0.75      0.96      0.84        25\n",
      "      focus       0.69      0.72      0.71        25\n",
      "    spiegel       0.65      0.60      0.63        25\n",
      "       zeit       0.63      0.48      0.55        25\n",
      "\n",
      "avg / total       0.68      0.69      0.68       100\n",
      "\n",
      "[[24  0  0  1]\n",
      " [ 4 18  1  2]\n",
      " [ 1  5 15  4]\n",
      " [ 3  3  7 12]]\n"
     ]
    }
   ],
   "source": [
    "print(metrics.classification_report(test.author, predicted))\n",
    "\n",
    "print(metrics.confusion_matrix(test.author, predicted))"
   ]
  },
  {
   "cell_type": "markdown",
   "metadata": {},
   "source": [
    "#### KNN Klassifikator\n",
    "K-Nearest Neighbor (KNN)-Klassifikation ist eine einfache, aber dennoch sehr effiziente Klassifikationsmethode. Der entscheidende Gedanke hinter der KNN-Klassifikation ist, dass einander ähnliche Messwerte zu gleichen Klassen gehören. Somit muss man nur die Klassenbezeichner einer gewissen Zahl der nächsten Nachbarn kennen, um die Klassennummer eines unbekannten Messwertes schätzen zu können."
   ]
  },
  {
   "cell_type": "code",
   "execution_count": 31,
   "metadata": {
    "collapsed": false
   },
   "outputs": [
    {
     "data": {
      "text/plain": [
       "0.52000000000000002"
      ]
     },
     "execution_count": 31,
     "metadata": {},
     "output_type": "execute_result"
    }
   ],
   "source": [
    "from sklearn.neighbors import KNeighborsClassifier\n",
    "\n",
    "knn = KNeighborsClassifier()\n",
    "knn_clf = Pipeline([('count_vectorizer', CountVectorizer()),\n",
    "                    ('tfidf_transformer',  TfidfTransformer()),\n",
    "                      ('knn', KNeighborsClassifier()) ])\n",
    "K=knn_clf.fit(train_data['description'].values, train_data['author'].values)\n",
    "predicted = knn_clf.predict(docs_test)\n",
    "np.mean(predicted == test.author) "
   ]
  },
  {
   "cell_type": "code",
   "execution_count": 32,
   "metadata": {
    "collapsed": false
   },
   "outputs": [
    {
     "name": "stdout",
     "output_type": "stream",
     "text": [
      "             precision    recall  f1-score   support\n",
      "\n",
      "       bild       0.80      0.64      0.71        25\n",
      "      focus       0.67      0.48      0.56        25\n",
      "    spiegel       0.35      0.76      0.48        25\n",
      "       zeit       0.62      0.20      0.30        25\n",
      "\n",
      "avg / total       0.61      0.52      0.51       100\n",
      "\n",
      "[[16  1  8  0]\n",
      " [ 1 12 11  1]\n",
      " [ 2  2 19  2]\n",
      " [ 1  3 16  5]]\n"
     ]
    }
   ],
   "source": [
    "print(metrics.classification_report(test.author, predicted))\n",
    "\n",
    "print(metrics.confusion_matrix(test.author, predicted))"
   ]
  },
  {
   "cell_type": "markdown",
   "metadata": {},
   "source": [
    "#### Entscheidungsbäume"
   ]
  },
  {
   "cell_type": "code",
   "execution_count": 33,
   "metadata": {
    "collapsed": false
   },
   "outputs": [
    {
     "data": {
      "text/plain": [
       "0.63"
      ]
     },
     "execution_count": 33,
     "metadata": {},
     "output_type": "execute_result"
    }
   ],
   "source": [
    "\n",
    "from sklearn.tree import DecisionTreeClassifier\n",
    "\n",
    "text_dtc = Pipeline([('count_vectorizer', CountVectorizer()),\n",
    "                      ('tfidf_transformer',  TfidfTransformer()),\n",
    "                      ('dtc', DecisionTreeClassifier()), ])\n",
    "\n",
    "D=text_dtc.fit(train_data['description'].values, train_data['author'].values)\n",
    "predicted = text_dtc.predict(docs_test)\n",
    "np.mean(predicted == test.author)"
   ]
  },
  {
   "cell_type": "code",
   "execution_count": 34,
   "metadata": {
    "collapsed": false
   },
   "outputs": [
    {
     "name": "stdout",
     "output_type": "stream",
     "text": [
      "             precision    recall  f1-score   support\n",
      "\n",
      "       bild       0.70      0.64      0.67        25\n",
      "      focus       0.87      0.52      0.65        25\n",
      "    spiegel       0.60      0.60      0.60        25\n",
      "       zeit       0.51      0.76      0.61        25\n",
      "\n",
      "avg / total       0.67      0.63      0.63       100\n",
      "\n",
      "[[16  0  2  7]\n",
      " [ 3 13  4  5]\n",
      " [ 2  2 15  6]\n",
      " [ 2  0  4 19]]\n"
     ]
    }
   ],
   "source": [
    "print(metrics.classification_report(test.author, predicted))\n",
    "\n",
    "print(metrics.confusion_matrix(test.author, predicted))"
   ]
  },
  {
   "cell_type": "markdown",
   "metadata": {},
   "source": [
    "#### Logistische Regression"
   ]
  },
  {
   "cell_type": "code",
   "execution_count": 35,
   "metadata": {
    "collapsed": false
   },
   "outputs": [
    {
     "data": {
      "text/plain": [
       "0.69999999999999996"
      ]
     },
     "execution_count": 35,
     "metadata": {},
     "output_type": "execute_result"
    }
   ],
   "source": [
    "from sklearn.linear_model import LogisticRegression\n",
    "\n",
    "# 2. instantiate a logistic regression model\n",
    "logreg = LogisticRegression()\n",
    "text_logreg = Pipeline([('count_vectorizer', CountVectorizer()),\n",
    "                      ('tfidf_transformer',  TfidfTransformer()),\n",
    "                      ('logreg',  LogisticRegression()), ])\n",
    "\n",
    "l=text_logreg.fit(train_data['description'].values, train_data['author'].values)\n",
    "predicted = text_logreg.predict(docs_test)\n",
    "np.mean(predicted == test.author)"
   ]
  },
  {
   "cell_type": "code",
   "execution_count": 36,
   "metadata": {
    "collapsed": false
   },
   "outputs": [
    {
     "name": "stdout",
     "output_type": "stream",
     "text": [
      "             precision    recall  f1-score   support\n",
      "\n",
      "       bild       0.73      0.96      0.83        25\n",
      "      focus       0.69      0.72      0.71        25\n",
      "    spiegel       0.70      0.56      0.62        25\n",
      "       zeit       0.67      0.56      0.61        25\n",
      "\n",
      "avg / total       0.70      0.70      0.69       100\n",
      "\n",
      "[[24  0  0  1]\n",
      " [ 4 18  1  2]\n",
      " [ 2  5 14  4]\n",
      " [ 3  3  5 14]]\n"
     ]
    }
   ],
   "source": [
    "print(metrics.classification_report(test.author, predicted))\n",
    "\n",
    "print(metrics.confusion_matrix(test.author, predicted))"
   ]
  },
  {
   "cell_type": "markdown",
   "metadata": {},
   "source": [
    "# Clustering"
   ]
  },
  {
   "cell_type": "markdown",
   "metadata": {},
   "source": [
    "K-means"
   ]
  },
  {
   "cell_type": "markdown",
   "metadata": {},
   "source": [
    "Der Ausgangspunkt ist die tf-idf Matrix tfidf_counts:\n"
   ]
  },
  {
   "cell_type": "code",
   "execution_count": 53,
   "metadata": {
    "collapsed": false
   },
   "outputs": [
    {
     "data": {
      "text/plain": [
       "(900, 5303)"
      ]
     },
     "execution_count": 53,
     "metadata": {},
     "output_type": "execute_result"
    }
   ],
   "source": [
    "tfidf_counts.shape"
   ]
  },
  {
   "cell_type": "markdown",
   "metadata": {},
   "source": [
    "Ein k-Means-Algorithmus ist ein Verfahren zur Vektorquantisierung, das auch zur Clusteranalyse verwendet wird. Dabei wird aus einer Menge von ähnlichen Objekten eine vorher bekannte Anzahl von k Gruppen gebildet. Der Algorithmus ist eine der am häufigsten verwendeten Techniken zur Gruppierung von Objekten, da er schnell die Zentren der Cluster findet. Dabei bevorzugt der Algorithmus Gruppen mit geringer Varianz, und ähnlicher Größe."
   ]
  },
  {
   "cell_type": "code",
   "execution_count": 54,
   "metadata": {
    "collapsed": false
   },
   "outputs": [],
   "source": [
    "import warnings\n",
    "warnings.filterwarnings(\"ignore\", category=DeprecationWarning)\n",
    "\n",
    "from sklearn.cluster import MiniBatchKMeans\n",
    "\n",
    "num_clusters = 30\n",
    "kmeans_model = MiniBatchKMeans(n_clusters=num_clusters, init='k-means++', n_init=1, \n",
    "                         init_size=1000, batch_size=1000, verbose=False, max_iter=1000)\n",
    "kmeans = kmeans_model.fit(tfidf_counts)\n",
    "kmeans_clusters = kmeans.predict(tfidf_counts)\n",
    "kmeans_distances = kmeans.transform(tfidf_counts)"
   ]
  },
  {
   "cell_type": "markdown",
   "metadata": {},
   "source": [
    "Die ersten 5 Beschreibung und die zugehörigen Cluster "
   ]
  },
  {
   "cell_type": "code",
   "execution_count": 55,
   "metadata": {
    "collapsed": false
   },
   "outputs": [
    {
     "name": "stdout",
     "output_type": "stream",
     "text": [
      "Cluster 2: Alle Rettungsversuche blieben erfolglos: Mit einer Pro-Kopf-Verschuldung von knapp 10.000 Euro steckt Oberhausen tiefer in den roten Zahlen als je zuvor. Die Verzweiflung wächst überall – vor allem in der Innenstadt, die langsam ausblutet.(distance: 0.99405921197)\n",
      "author:  focus\n",
      "---\n",
      "Cluster 4: RB Leipzig gegen den FC Bayern am 33. Bundesliga-Spieltag, das hätte ein echter Kracher im Titelkampf sein können. So aber wird das Spiel zum Schaulaufen des Meisters. Würze ist dennoch drin: Der Aufsteiger kann einen Bayern-Rekord knacken. Der Live-Ticker.(distance: 0.94642443659)\n",
      "author:  focus\n",
      "---\n",
      "Cluster 2: Mit der eigenwilligen Interpretation seines Haftantritts nach Steuerhinterziehung ruft Uli Hoeneß ausgerechnet nach einem Auftritt in der Steueroase Liechtenstein Verwunderung hervor. Die Empörung zeigt: Rückhalt hat der Bayern-Präsident in moralischen Fragen nicht mehr zu erwarten.(distance: 0.993954688344)\n",
      "author:  focus\n",
      "---\n",
      "Cluster 3: Das Eigenheim ist die beste Geldanlage fürs Alter - denkste! In knapp der Hälfte aller deutschen Landkreise werden die Preise bis 2030 sinken, sagt eine neue Studie des Hamburgischen Weltwirtschafts-Instituts (HHWI). Focus Online zeigt, ob auch Ihr Wohnort dabei ist.(distance: 0.85772410682)\n",
      "author:  focus\n",
      "---\n",
      "Cluster 29: Die AfD ist am Sonntag mit 7,4 Prozent in den nordrhein-westfälischen Landtag eingezogen. Doch einige Leute halten dieses Ergebnis für zu gering, sie beklagen angeblichen Wahlbetrug - die Vorwürfe sind jedoch schnell entkräftet.(distance: 0.74382320988)\n",
      "author:  focus\n",
      "---\n"
     ]
    }
   ],
   "source": [
    "for (i, desc),author in zip(enumerate(train_data.description),train_data['author']):\n",
    "    if(i < 5):\n",
    "        print(\"Cluster \" + str(kmeans_clusters[i]) + \": \" + desc + \n",
    "              \"(distance: \" + str(kmeans_distances[i][kmeans_clusters[i]]) + \")\")\n",
    "        print('author: ',author)\n",
    "        print('---')"
   ]
  },
  {
   "cell_type": "markdown",
   "metadata": {},
   "source": [
    "\n",
    "Das sagt nicht viel aus. Das Rausfiltern der wichtigsten Schlüsselwörter, die jeden Cluster beschreiben.\n"
   ]
  },
  {
   "cell_type": "code",
   "execution_count": 56,
   "metadata": {
    "collapsed": false
   },
   "outputs": [
    {
     "name": "stdout",
     "output_type": "stream",
     "text": [
      "Cluster 0:\n",
      "recht | grünert | Netz | tattoo | convention | Aufschrei | getrocknet | Hundewelpe | Luxemburg | angeboten.die | \n",
      "\n",
      "Cluster 1:\n",
      "*** | bildplus | <UNKNOWN> | – | schätzen | klein | Bürgermeisterin | suchen | mehr | hechingen | \n",
      "\n",
      "Cluster 2:\n",
      "neu | – | Präsident | macron | Europa | erst | @card@ | mehr | Emmanuel | groß | \n",
      "\n",
      "Cluster 3:\n",
      "sagen | deutsch | türkisch | Focus | online | abgeordnet | incirlik | Luftwaffenstützpunkt | Liebesleben | gesundheitlich | \n",
      "\n",
      "Cluster 4:\n",
      "spielen | Deutschland | stehen | Viertelfinale | starten | rb | enden | eishockey-wm | Leipzig | live-ticker | \n",
      "\n",
      "Cluster 5:\n",
      "Donnerstag | Dauereinsatz | Hauptstadt | Tötungsdelikt | bewegen | vergangen | fünf | frauen | opfern | vier | \n",
      "\n",
      "Cluster 6:\n",
      "fallen | Bundesanwaltschaft | Bombenangriff | karlsruhe | zurückgeben | bvb-bus | Ermittlung | bild-informationen | staatsanwaltschaft | dortmund | \n",
      "\n",
      "Cluster 7:\n",
      "Landtagswahl | nordrhein-westfalen | spd | Bundestagswahl | Hannelore | laschet | letzt | Armin | cdu | schaffen | \n",
      "\n",
      "Cluster 8:\n",
      "Dienstag | leben | kommen | verklagen | stadtsparkasse | Düsseldorfer | Landgericht | 23. | bankräuber.die | beuten | \n",
      "\n",
      "Cluster 9:\n",
      "@card@ | – | stehen | bochum | Jahr | Daniel | 16 | sitzen | ruda | 41 | \n",
      "\n",
      "Cluster 10:\n",
      "trump | Donald | us-präsident | reisen | erst | Geschichte | Entlassung | stehen | Branche | gehen | \n",
      "\n",
      "Cluster 11:\n",
      "menschen | retten | – | Hund | gehen | vielleicht | weit | freund | gut | Auto | \n",
      "\n",
      "Cluster 12:\n",
      "Berliner | privat | bringen | Euro | deutsch | neukölln | zehlendorf | mittwochmorgen | Bezirk | Verdacht | \n",
      "\n",
      "Cluster 13:\n",
      "drei | spd | Landtagswahl | setzen | nordrhein-westfalen | angriffslustig | Parteiprominenz | Schlussspurt | duisburg | ungefähr | \n",
      "\n",
      "Cluster 14:\n",
      "passieren | Marke | angreifen | verschwinden | geheimdienste | Lücke | wannacry-erpresser | finanziell | erden | berühmt | \n",
      "\n",
      "Cluster 15:\n",
      "allerdings | bereits | wochen | liegen | kaum | fragen | optimal | wohlbefinden | Essverhalten | essverhalten | \n",
      "\n",
      "Cluster 16:\n",
      "Mutter | jung | – | bayern | hausen | nacht | wütend | Müller | Johannes | kaiserslautern-fan | \n",
      "\n",
      "Cluster 17:\n",
      "langsam | tun | dsl-verbindung | plötzlich | zeigen | nämlich | Schwiegersohn | töchter | Mercedes | einbrechen.der | \n",
      "\n",
      "Cluster 18:\n",
      "Jahr | Skandal | kommen | Justiz | Täter | Hannelore | immer | einlösen | groß | juristisch | \n",
      "\n",
      "Cluster 19:\n",
      "stimmen | Bündnis | links | schließen | Wurst | conchita | überzeugt | @card@ | Wahlkampfauftritt | contest | \n",
      "\n",
      "Cluster 20:\n",
      "weltweit | cyberattacke | Organisation | firm | Lösegeld | verschlüsseln | behörden | Computer | betreffen | verlangen | \n",
      "\n",
      "Cluster 21:\n",
      "finden | zwei | Jahr | groß | längst | freitagabend | stoßen | alt | bald | Ermittler | \n",
      "\n",
      "Cluster 22:\n",
      "verlängern | falsch | Gymnasium | Wilfredo | bracamonte | potosí | Mine | Bergarbeiter | Besucher | früher | \n",
      "\n",
      "Cluster 23:\n",
      "trump | us-präsident | fbi-chef | Donald | comey | weitergeben | james | Rußland | erhalten | Außenminister | \n",
      "\n",
      "Cluster 24:\n",
      "Schulz | Martin | merkel | spiegel-informationen | spd | entlasten | Wahlkampfprogramm | familien | hingegen | irritieren | \n",
      "\n",
      "Cluster 25:\n",
      "teilen | Deutschland | geben | stark | warnen | Kind | Quadratmeter | Wetterdienst | Liter | Gabriele | \n",
      "\n",
      "Cluster 26:\n",
      "schlimm | Luft | Gianni | infantino | atmen | Blatter | jagen | nachfolger | fifa | sepp | \n",
      "\n",
      "Cluster 27:\n",
      "bekommen | gerade | eigen | verrückt | ex-club | anstellen | Dilemma | schallen | verstärken | ergänzen | \n",
      "\n",
      "Cluster 28:\n",
      "geraten | erliegen | schwer | u-bahn-station | – | Straße | deutsch | verletzungen.viellehners | vize-weltmeisterin | Trainer | \n",
      "\n",
      "Cluster 29:\n",
      "halten | Ergebnis | vorwerfen | einziehen | Wahlbetrug | nordrhein-westfälisch | 7,4 | lindner | Prozent | Leute | \n",
      "\n"
     ]
    }
   ],
   "source": [
    "sorted_centroids = kmeans.cluster_centers_.argsort()[:, ::-1]\n",
    "terms = tfidf_vectorizer.get_feature_names()\n",
    "for i in range(num_clusters):\n",
    "    print(\"Cluster %d:\" % i)\n",
    "    aux = ''\n",
    "    for j in sorted_centroids[i, :10]:\n",
    "        aux += terms[j] + ' | '\n",
    "    print(aux)\n",
    "    print() "
   ]
  },
  {
   "cell_type": "markdown",
   "metadata": {},
   "source": [
    "Plotten der Cluster. Um dies zu tun, muss die Dimensionalität von kmeans_distances auf 2 reduzieren."
   ]
  },
  {
   "cell_type": "code",
   "execution_count": 57,
   "metadata": {
    "collapsed": false
   },
   "outputs": [
    {
     "name": "stdout",
     "output_type": "stream",
     "text": [
      "[t-SNE] Computing pairwise distances...\n",
      "[t-SNE] Computing 91 nearest neighbors...\n",
      "[t-SNE] Computed conditional probabilities for sample 900 / 900\n",
      "[t-SNE] Mean sigma: 0.018482\n",
      "[t-SNE] Error after 100 iterations with early exaggeration: 0.692404\n",
      "[t-SNE] Error after 175 iterations: 0.624234\n"
     ]
    }
   ],
   "source": [
    "tsne_kmeans = tsne_model.fit_transform(kmeans_distances)"
   ]
  },
  {
   "cell_type": "code",
   "execution_count": 47,
   "metadata": {
    "collapsed": true
   },
   "outputs": [],
   "source": [
    "\n",
    "\n",
    "import bokeh.plotting as bp\n",
    "from bokeh.models import HoverTool, BoxSelectTool\n",
    "from bokeh.plotting import figure, show, output_notebook\n",
    "\n"
   ]
  },
  {
   "cell_type": "code",
   "execution_count": 48,
   "metadata": {
    "collapsed": false
   },
   "outputs": [
    {
     "data": {
      "text/html": [
       "\n",
       "    <div class=\"bk-root\">\n",
       "        <a href=\"http://bokeh.pydata.org\" target=\"_blank\" class=\"bk-logo bk-logo-small bk-logo-notebook\"></a>\n",
       "        <span id=\"31ecfb5a-ef38-4f46-bebd-46e660596d9d\">Loading BokehJS ...</span>\n",
       "    </div>"
      ]
     },
     "metadata": {},
     "output_type": "display_data"
    },
    {
     "data": {
      "application/javascript": [
       "\n",
       "(function(global) {\n",
       "  function now() {\n",
       "    return new Date();\n",
       "  }\n",
       "\n",
       "  var force = \"1\";\n",
       "\n",
       "  if (typeof (window._bokeh_onload_callbacks) === \"undefined\" || force !== \"\") {\n",
       "    window._bokeh_onload_callbacks = [];\n",
       "    window._bokeh_is_loading = undefined;\n",
       "  }\n",
       "\n",
       "  function run_callbacks() {\n",
       "    window._bokeh_onload_callbacks.forEach(function(callback) { callback() });\n",
       "    delete window._bokeh_onload_callbacks\n",
       "    console.info(\"Bokeh: all callbacks have finished\");\n",
       "  }\n",
       "\n",
       "  function load_libs(js_urls, callback) {\n",
       "    window._bokeh_onload_callbacks.push(callback);\n",
       "    if (window._bokeh_is_loading > 0) {\n",
       "      console.log(\"Bokeh: BokehJS is being loaded, scheduling callback at\", now());\n",
       "      return null;\n",
       "    }\n",
       "    if (js_urls == null || js_urls.length === 0) {\n",
       "      run_callbacks();\n",
       "      return null;\n",
       "    }\n",
       "    console.log(\"Bokeh: BokehJS not loaded, scheduling load and callback at\", now());\n",
       "    window._bokeh_is_loading = js_urls.length;\n",
       "    for (var i = 0; i < js_urls.length; i++) {\n",
       "      var url = js_urls[i];\n",
       "      var s = document.createElement('script');\n",
       "      s.src = url;\n",
       "      s.async = false;\n",
       "      s.onreadystatechange = s.onload = function() {\n",
       "        window._bokeh_is_loading--;\n",
       "        if (window._bokeh_is_loading === 0) {\n",
       "          console.log(\"Bokeh: all BokehJS libraries loaded\");\n",
       "          run_callbacks()\n",
       "        }\n",
       "      };\n",
       "      s.onerror = function() {\n",
       "        console.warn(\"failed to load library \" + url);\n",
       "      };\n",
       "      console.log(\"Bokeh: injecting script tag for BokehJS library: \", url);\n",
       "      document.getElementsByTagName(\"head\")[0].appendChild(s);\n",
       "    }\n",
       "  };\n",
       "\n",
       "  var js_urls = ['https://cdn.pydata.org/bokeh/release/bokeh-0.12.1.min.js', 'https://cdn.pydata.org/bokeh/release/bokeh-widgets-0.12.1.min.js', 'https://cdn.pydata.org/bokeh/release/bokeh-compiler-0.12.1.min.js'];\n",
       "\n",
       "  var inline_js = [\n",
       "    function(Bokeh) {\n",
       "      Bokeh.set_log_level(\"info\");\n",
       "    },\n",
       "    \n",
       "    function(Bokeh) {\n",
       "      \n",
       "      Bokeh.$(\"#31ecfb5a-ef38-4f46-bebd-46e660596d9d\").text(\"BokehJS successfully loaded\");\n",
       "      var kernel = Jupyter.notebook.kernel\n",
       "      if (kernel.execute !== undefined) {\n",
       "          kernel.execute(\"import bokeh.io; bokeh.io._nb_loaded = True\");\n",
       "      }\n",
       "    },\n",
       "    function(Bokeh) {\n",
       "      console.log(\"Bokeh: injecting CSS: https://cdn.pydata.org/bokeh/release/bokeh-0.12.1.min.css\");\n",
       "      Bokeh.embed.inject_css(\"https://cdn.pydata.org/bokeh/release/bokeh-0.12.1.min.css\");\n",
       "      console.log(\"Bokeh: injecting CSS: https://cdn.pydata.org/bokeh/release/bokeh-widgets-0.12.1.min.css\");\n",
       "      Bokeh.embed.inject_css(\"https://cdn.pydata.org/bokeh/release/bokeh-widgets-0.12.1.min.css\");\n",
       "    }\n",
       "  ];\n",
       "\n",
       "  function run_inline_js() {\n",
       "    for (var i = 0; i < inline_js.length; i++) {\n",
       "      inline_js[i](window.Bokeh);\n",
       "    }\n",
       "  }\n",
       "\n",
       "  if (window._bokeh_is_loading === 0) {\n",
       "    console.log(\"Bokeh: BokehJS loaded, going straight to plotting\");\n",
       "    run_inline_js();\n",
       "  } else {\n",
       "    load_libs(js_urls, function() {\n",
       "      console.log(\"Bokeh: BokehJS plotting callback run at\", now());\n",
       "      run_inline_js();\n",
       "    });\n",
       "  }\n",
       "}(this));"
      ]
     },
     "metadata": {},
     "output_type": "display_data"
    }
   ],
   "source": [
    "\n",
    "\n",
    "output_notebook()\n",
    "plot_tfidf = bp.figure(plot_width=700, plot_height=600, title=\"tf-idf clustering of the news\",\n",
    "    tools=\"pan,wheel_zoom,box_zoom,reset,hover,previewsave\",\n",
    "    x_axis_type=None, y_axis_type=None, min_border=1)\n",
    "\n"
   ]
  },
  {
   "cell_type": "code",
   "execution_count": 49,
   "metadata": {
    "collapsed": false
   },
   "outputs": [],
   "source": [
    "colormap = np.array([\"#6d8dca\", \"#69de53\", \"#723bca\", \"#c3e14c\", \"#c84dc9\", \"#68af4e\", \"#6e6cd5\",\n",
    "\"#e3be38\", \"#4e2d7c\", \"#5fdfa8\", \"#d34690\", \"#3f6d31\", \"#d44427\", \"#7fcdd8\", \"#cb4053\", \"#5e9981\",\n",
    "\"#803a62\", \"#9b9e39\", \"#c88cca\", \"#e1c37b\", \"#34223b\", \"#bdd8a3\", \"#6e3326\", \"#cfbdce\", \"#d07d3c\",\n",
    "\"#52697d\", \"#7d6d33\", \"#d27c88\", \"#36422b\", \"#b68f79\"])\n",
    "\n",
    "plot_kmeans = bp.figure(plot_width=700, plot_height=600, title=\"KMeans clustering of the news\",\n",
    "    tools=\"pan,wheel_zoom,box_zoom,reset,hover,previewsave\",\n",
    "    x_axis_type=None, y_axis_type=None, min_border=1)"
   ]
  },
  {
   "cell_type": "code",
   "execution_count": 50,
   "metadata": {
    "collapsed": false
   },
   "outputs": [],
   "source": [
    "kmeans_df = pd.DataFrame(tsne_kmeans, columns=['x', 'y'])\n",
    "kmeans_df['cluster'] = kmeans_clusters\n",
    "kmeans_df['description'] = train_data['description']\n",
    "kmeans_df['author'] =train_data['author']"
   ]
  },
  {
   "cell_type": "code",
   "execution_count": 51,
   "metadata": {
    "collapsed": false
   },
   "outputs": [
    {
     "data": {
      "text/plain": [
       "<bokeh.models.renderers.GlyphRenderer at 0xec95f28>"
      ]
     },
     "execution_count": 51,
     "metadata": {},
     "output_type": "execute_result"
    }
   ],
   "source": [
    "plot_kmeans.scatter(x='x', y='y',  color=colormap[kmeans_clusters])\n"
   ]
  },
  {
   "cell_type": "code",
   "execution_count": 52,
   "metadata": {
    "collapsed": false
   },
   "outputs": [
    {
     "data": {
      "text/html": [
       "\n",
       "\n",
       "    <div class=\"bk-root\">\n",
       "        <div class=\"plotdiv\" id=\"47120f23-4e05-41e1-9f78-223199bfbbb8\"></div>\n",
       "    </div>\n",
       "<script type=\"text/javascript\">\n",
       "  \n",
       "  (function(global) {\n",
       "    function now() {\n",
       "      return new Date();\n",
       "    }\n",
       "  \n",
       "    var force = \"\";\n",
       "  \n",
       "    if (typeof (window._bokeh_onload_callbacks) === \"undefined\" || force !== \"\") {\n",
       "      window._bokeh_onload_callbacks = [];\n",
       "      window._bokeh_is_loading = undefined;\n",
       "    }\n",
       "  \n",
       "    function run_callbacks() {\n",
       "      window._bokeh_onload_callbacks.forEach(function(callback) { callback() });\n",
       "      delete window._bokeh_onload_callbacks\n",
       "      console.info(\"Bokeh: all callbacks have finished\");\n",
       "    }\n",
       "  \n",
       "    function load_libs(js_urls, callback) {\n",
       "      window._bokeh_onload_callbacks.push(callback);\n",
       "      if (window._bokeh_is_loading > 0) {\n",
       "        console.log(\"Bokeh: BokehJS is being loaded, scheduling callback at\", now());\n",
       "        return null;\n",
       "      }\n",
       "      if (js_urls == null || js_urls.length === 0) {\n",
       "        run_callbacks();\n",
       "        return null;\n",
       "      }\n",
       "      console.log(\"Bokeh: BokehJS not loaded, scheduling load and callback at\", now());\n",
       "      window._bokeh_is_loading = js_urls.length;\n",
       "      for (var i = 0; i < js_urls.length; i++) {\n",
       "        var url = js_urls[i];\n",
       "        var s = document.createElement('script');\n",
       "        s.src = url;\n",
       "        s.async = false;\n",
       "        s.onreadystatechange = s.onload = function() {\n",
       "          window._bokeh_is_loading--;\n",
       "          if (window._bokeh_is_loading === 0) {\n",
       "            console.log(\"Bokeh: all BokehJS libraries loaded\");\n",
       "            run_callbacks()\n",
       "          }\n",
       "        };\n",
       "        s.onerror = function() {\n",
       "          console.warn(\"failed to load library \" + url);\n",
       "        };\n",
       "        console.log(\"Bokeh: injecting script tag for BokehJS library: \", url);\n",
       "        document.getElementsByTagName(\"head\")[0].appendChild(s);\n",
       "      }\n",
       "    };var element = document.getElementById(\"47120f23-4e05-41e1-9f78-223199bfbbb8\");\n",
       "    if (element == null) {\n",
       "      console.log(\"Bokeh: ERROR: autoload.js configured with elementid '47120f23-4e05-41e1-9f78-223199bfbbb8' but no matching script tag was found. \")\n",
       "      return false;\n",
       "    }\n",
       "  \n",
       "    var js_urls = [];\n",
       "  \n",
       "    var inline_js = [\n",
       "      function(Bokeh) {\n",
       "        Bokeh.$(function() {\n",
       "            var docs_json = {\"16398bff-c7f2-4b49-a2f7-fdd077ac5644\":{\"roots\":{\"references\":[{\"attributes\":{\"callback\":null},\"id\":\"ad667244-0d8f-488d-8e22-b6bb2648fd9e\",\"type\":\"DataRange1d\"},{\"attributes\":{\"plot\":{\"id\":\"ea7dc186-add8-4748-be9f-c3f5848c4926\",\"subtype\":\"Figure\",\"type\":\"Plot\"}},\"id\":\"266e6614-813a-48d4-8b10-6e7b518d984f\",\"type\":\"PanTool\"},{\"attributes\":{\"data_source\":{\"id\":\"9e244bc3-db19-4f24-bf0e-b26a04ece7fc\",\"type\":\"ColumnDataSource\"},\"glyph\":{\"id\":\"c36b01cb-cd96-4d27-a38a-0c527d3fed9a\",\"type\":\"Circle\"},\"hover_glyph\":null,\"nonselection_glyph\":{\"id\":\"d0730b4e-a139-451e-aabb-65b4773edb2c\",\"type\":\"Circle\"},\"selection_glyph\":null},\"id\":\"da2bb335-14f6-4847-84e3-7334fe3146c2\",\"type\":\"GlyphRenderer\"},{\"attributes\":{\"callback\":null,\"plot\":{\"id\":\"ea7dc186-add8-4748-be9f-c3f5848c4926\",\"subtype\":\"Figure\",\"type\":\"Plot\"},\"tooltips\":[[\"description\",\"@description\"],[\"author\",\"@author\"],[\"cluster\",\"@cluster\"]]},\"id\":\"2093ce4f-7333-4537-a7e0-e9e3e05aeb55\",\"type\":\"HoverTool\"},{\"attributes\":{\"min_border\":1,\"plot_width\":700,\"renderers\":[{\"id\":\"8b626cc7-60ed-4cc8-88b1-75a688d258d8\",\"type\":\"BoxAnnotation\"},{\"id\":\"da2bb335-14f6-4847-84e3-7334fe3146c2\",\"type\":\"GlyphRenderer\"}],\"title\":{\"id\":\"cbd81cd3-fcb2-4a8b-b2ab-ad8bc4adee9c\",\"type\":\"Title\"},\"tool_events\":{\"id\":\"669517cd-45c6-494c-996a-f1a22926d858\",\"type\":\"ToolEvents\"},\"toolbar\":{\"id\":\"a113c12d-1263-4623-8931-d8042bda2930\",\"type\":\"Toolbar\"},\"x_range\":{\"id\":\"ad667244-0d8f-488d-8e22-b6bb2648fd9e\",\"type\":\"DataRange1d\"},\"y_range\":{\"id\":\"c3caa1b7-5dd3-4fbb-9cb4-2d022b6ad182\",\"type\":\"DataRange1d\"}},\"id\":\"ea7dc186-add8-4748-be9f-c3f5848c4926\",\"subtype\":\"Figure\",\"type\":\"Plot\"},{\"attributes\":{\"overlay\":{\"id\":\"8b626cc7-60ed-4cc8-88b1-75a688d258d8\",\"type\":\"BoxAnnotation\"},\"plot\":{\"id\":\"ea7dc186-add8-4748-be9f-c3f5848c4926\",\"subtype\":\"Figure\",\"type\":\"Plot\"}},\"id\":\"177731ad-37cd-43a1-b420-6d7f436a0f6c\",\"type\":\"BoxZoomTool\"},{\"attributes\":{},\"id\":\"669517cd-45c6-494c-996a-f1a22926d858\",\"type\":\"ToolEvents\"},{\"attributes\":{\"plot\":null,\"text\":\"KMeans clustering of the news\"},\"id\":\"cbd81cd3-fcb2-4a8b-b2ab-ad8bc4adee9c\",\"type\":\"Title\"},{\"attributes\":{\"plot\":{\"id\":\"ea7dc186-add8-4748-be9f-c3f5848c4926\",\"subtype\":\"Figure\",\"type\":\"Plot\"}},\"id\":\"8704aba3-e824-44a1-89ea-968022a086f4\",\"type\":\"WheelZoomTool\"},{\"attributes\":{\"callback\":null},\"id\":\"c3caa1b7-5dd3-4fbb-9cb4-2d022b6ad182\",\"type\":\"DataRange1d\"},{\"attributes\":{\"fill_alpha\":{\"value\":0.1},\"fill_color\":{\"value\":\"#1f77b4\"},\"line_alpha\":{\"value\":0.1},\"line_color\":{\"value\":\"#1f77b4\"},\"x\":{\"field\":\"x\"},\"y\":{\"field\":\"y\"}},\"id\":\"d0730b4e-a139-451e-aabb-65b4773edb2c\",\"type\":\"Circle\"},{\"attributes\":{\"callback\":null,\"column_names\":[\"fill_color\",\"line_color\"],\"data\":{\"fill_color\":[\"#d44427\",\"#c3e14c\",\"#4e2d7c\",\"#3f6d31\",\"#6e3326\",\"#cb4053\",\"#7fcdd8\",\"#803a62\",\"#6e3326\",\"#68af4e\",\"#4e2d7c\",\"#b68f79\",\"#6e6cd5\",\"#d07d3c\",\"#3f6d31\",\"#6e3326\",\"#cb4053\",\"#7fcdd8\",\"#803a62\",\"#6e3326\",\"#68af4e\",\"#4e2d7c\",\"#b68f79\",\"#6e6cd5\",\"#d44427\",\"#5e9981\",\"#d07d3c\",\"#e3be38\",\"#6e3326\",\"#d44427\",\"#d07d3c\",\"#d44427\",\"#c88cca\",\"#d44427\",\"#6e3326\",\"#c84dc9\",\"#c84dc9\",\"#d44427\",\"#7fcdd8\",\"#c3e14c\",\"#d44427\",\"#5e9981\",\"#3f6d31\",\"#c84dc9\",\"#cb4053\",\"#d44427\",\"#d44427\",\"#d44427\",\"#d44427\",\"#d44427\",\"#d44427\",\"#d44427\",\"#69de53\",\"#d44427\",\"#d44427\",\"#d44427\",\"#3f6d31\",\"#d44427\",\"#e3be38\",\"#d27c88\",\"#d44427\",\"#d44427\",\"#68af4e\",\"#d44427\",\"#d44427\",\"#d44427\",\"#d44427\",\"#68af4e\",\"#5fdfa8\",\"#68af4e\",\"#e3be38\",\"#d44427\",\"#d27c88\",\"#c84dc9\",\"#d44427\",\"#d44427\",\"#d44427\",\"#d44427\",\"#68af4e\",\"#c84dc9\",\"#d44427\",\"#c3e14c\",\"#d44427\",\"#3f6d31\",\"#d44427\",\"#d44427\",\"#d44427\",\"#d44427\",\"#d44427\",\"#d44427\",\"#cfbdce\",\"#68af4e\",\"#d27c88\",\"#d44427\",\"#68af4e\",\"#d44427\",\"#d44427\",\"#d44427\",\"#c84dc9\",\"#d44427\",\"#d44427\",\"#d44427\",\"#d44427\",\"#68af4e\",\"#d44427\",\"#3f6d31\",\"#c84dc9\",\"#4e2d7c\",\"#5fdfa8\",\"#c84dc9\",\"#d44427\",\"#d27c88\",\"#c88cca\",\"#d07d3c\",\"#d44427\",\"#68af4e\",\"#d44427\",\"#3f6d31\",\"#d44427\",\"#d44427\",\"#5fdfa8\",\"#e3be38\",\"#d44427\",\"#d44427\",\"#d44427\",\"#3f6d31\",\"#6e3326\",\"#cb4053\",\"#7fcdd8\",\"#803a62\",\"#6e3326\",\"#68af4e\",\"#4e2d7c\",\"#b68f79\",\"#6e6cd5\",\"#d44427\",\"#3f6d31\",\"#6e3326\",\"#cb4053\",\"#7fcdd8\",\"#d44427\",\"#c3e14c\",\"#cfbdce\",\"#5fdfa8\",\"#4e2d7c\",\"#c84dc9\",\"#d44427\",\"#c84dc9\",\"#c3e14c\",\"#d44427\",\"#e1c37b\",\"#6e6cd5\",\"#d07d3c\",\"#d44427\",\"#cfbdce\",\"#d07d3c\",\"#c84dc9\",\"#d44427\",\"#d44427\",\"#c84dc9\",\"#52697d\",\"#c84dc9\",\"#d44427\",\"#e1c37b\",\"#6e6cd5\",\"#5fdfa8\",\"#d44427\",\"#d44427\",\"#d44427\",\"#d44427\",\"#d44427\",\"#6e6cd5\",\"#803a62\",\"#c84dc9\",\"#c3e14c\",\"#d07d3c\",\"#e3be38\",\"#4e2d7c\",\"#69de53\",\"#c3e14c\",\"#68af4e\",\"#d44427\",\"#68af4e\",\"#d44427\",\"#d44427\",\"#4e2d7c\",\"#d44427\",\"#d44427\",\"#3f6d31\",\"#36422b\",\"#6e3326\",\"#803a62\",\"#d44427\",\"#d44427\",\"#c3e14c\",\"#69de53\",\"#d44427\",\"#6e3326\",\"#5e9981\",\"#d44427\",\"#36422b\",\"#4e2d7c\",\"#d44427\",\"#d44427\",\"#d44427\",\"#6e3326\",\"#d07d3c\",\"#d44427\",\"#4e2d7c\",\"#69de53\",\"#c3e14c\",\"#36422b\",\"#d44427\",\"#d44427\",\"#52697d\",\"#6e3326\",\"#d07d3c\",\"#d07d3c\",\"#d07d3c\",\"#6e3326\",\"#d44427\",\"#d27c88\",\"#36422b\",\"#d44427\",\"#d44427\",\"#d44427\",\"#d44427\",\"#d44427\",\"#6d8dca\",\"#4e2d7c\",\"#d44427\",\"#d44427\",\"#d07d3c\",\"#d07d3c\",\"#68af4e\",\"#d44427\",\"#d44427\",\"#d44427\",\"#6d8dca\",\"#6d8dca\",\"#d07d3c\",\"#52697d\",\"#3f6d31\",\"#d44427\",\"#d27c88\",\"#d44427\",\"#d44427\",\"#e1c37b\",\"#d44427\",\"#6d8dca\",\"#6d8dca\",\"#d44427\",\"#52697d\",\"#3f6d31\",\"#6d8dca\",\"#6d8dca\",\"#d44427\",\"#68af4e\",\"#d27c88\",\"#d44427\",\"#6d8dca\",\"#6d8dca\",\"#d44427\",\"#52697d\",\"#5e9981\",\"#d44427\",\"#723bca\",\"#d44427\",\"#4e2d7c\",\"#d27c88\",\"#d44427\",\"#d07d3c\",\"#d44427\",\"#c84dc9\",\"#6e3326\",\"#d44427\",\"#d07d3c\",\"#5e9981\",\"#d44427\",\"#d44427\",\"#c84dc9\",\"#723bca\",\"#723bca\",\"#6d8dca\",\"#6d8dca\",\"#d44427\",\"#e3be38\",\"#d44427\",\"#d44427\",\"#d44427\",\"#d44427\",\"#4e2d7c\",\"#d44427\",\"#d44427\",\"#5e9981\",\"#68af4e\",\"#d44427\",\"#68af4e\",\"#6d8dca\",\"#d44427\",\"#e3be38\",\"#d44427\",\"#d44427\",\"#d44427\",\"#68af4e\",\"#68af4e\",\"#5e9981\",\"#c84dc9\",\"#d44427\",\"#d44427\",\"#3f6d31\",\"#d44427\",\"#d44427\",\"#c3e14c\",\"#d44427\",\"#c84dc9\",\"#68af4e\",\"#d44427\",\"#d44427\",\"#9b9e39\",\"#d44427\",\"#6d8dca\",\"#d44427\",\"#d07d3c\",\"#d27c88\",\"#d44427\",\"#d44427\",\"#d44427\",\"#5e9981\",\"#3f6d31\",\"#d44427\",\"#d44427\",\"#6e6cd5\",\"#d44427\",\"#cb4053\",\"#c84dc9\",\"#5fdfa8\",\"#d44427\",\"#6d8dca\",\"#d07d3c\",\"#5e9981\",\"#5e9981\",\"#52697d\",\"#e3be38\",\"#d44427\",\"#d27c88\",\"#6e6cd5\",\"#d44427\",\"#cb4053\",\"#6d8dca\",\"#d44427\",\"#d44427\",\"#68af4e\",\"#d44427\",\"#68af4e\",\"#d44427\",\"#c3e14c\",\"#68af4e\",\"#d44427\",\"#d44427\",\"#6d8dca\",\"#d44427\",\"#5e9981\",\"#68af4e\",\"#d44427\",\"#d27c88\",\"#d44427\",\"#d07d3c\",\"#68af4e\",\"#d44427\",\"#c84dc9\",\"#5e9981\",\"#5fdfa8\",\"#d44427\",\"#e3be38\",\"#68af4e\",\"#d44427\",\"#5e9981\",\"#7fcdd8\",\"#cfbdce\",\"#5fdfa8\",\"#c3e14c\",\"#6d8dca\",\"#d44427\",\"#6d8dca\",\"#e3be38\",\"#7fcdd8\",\"#68af4e\",\"#cfbdce\",\"#c84dc9\",\"#d44427\",\"#b68f79\",\"#d27c88\",\"#d44427\",\"#6d8dca\",\"#d44427\",\"#68af4e\",\"#d07d3c\",\"#68af4e\",\"#d44427\",\"#d44427\",\"#d44427\",\"#d44427\",\"#d44427\",\"#69de53\",\"#d44427\",\"#4e2d7c\",\"#68af4e\",\"#68af4e\",\"#6e3326\",\"#d44427\",\"#cb4053\",\"#cb4053\",\"#d44427\",\"#d44427\",\"#d44427\",\"#d44427\",\"#5fdfa8\",\"#cb4053\",\"#d44427\",\"#6d8dca\",\"#d44427\",\"#cb4053\",\"#d44427\",\"#d44427\",\"#d44427\",\"#d44427\",\"#d44427\",\"#3f6d31\",\"#d44427\",\"#d44427\",\"#d44427\",\"#69de53\",\"#d27c88\",\"#d44427\",\"#68af4e\",\"#5e9981\",\"#e1c37b\",\"#d44427\",\"#d44427\",\"#68af4e\",\"#68af4e\",\"#d27c88\",\"#d44427\",\"#d44427\",\"#d44427\",\"#d44427\",\"#d44427\",\"#d44427\",\"#d44427\",\"#d44427\",\"#c84dc9\",\"#d44427\",\"#36422b\",\"#6e6cd5\",\"#d44427\",\"#68af4e\",\"#d44427\",\"#6d8dca\",\"#7fcdd8\",\"#5fdfa8\",\"#6d8dca\",\"#69de53\",\"#d44427\",\"#d44427\",\"#36422b\",\"#6e6cd5\",\"#d44427\",\"#68af4e\",\"#d44427\",\"#6d8dca\",\"#7fcdd8\",\"#d44427\",\"#d44427\",\"#d27c88\",\"#d44427\",\"#e3be38\",\"#d27c88\",\"#d27c88\",\"#d44427\",\"#d44427\",\"#d44427\",\"#d44427\",\"#d44427\",\"#6d8dca\",\"#d44427\",\"#d27c88\",\"#d44427\",\"#d44427\",\"#c84dc9\",\"#d44427\",\"#d27c88\",\"#c84dc9\",\"#5e9981\",\"#d44427\",\"#d44427\",\"#6e6cd5\",\"#c84dc9\",\"#d44427\",\"#d44427\",\"#d44427\",\"#d27c88\",\"#d44427\",\"#d44427\",\"#c84dc9\",\"#d44427\",\"#d44427\",\"#d44427\",\"#b68f79\",\"#d44427\",\"#e3be38\",\"#d44427\",\"#d44427\",\"#d44427\",\"#d44427\",\"#d44427\",\"#5e9981\",\"#d44427\",\"#d44427\",\"#d44427\",\"#d44427\",\"#e3be38\",\"#68af4e\",\"#d44427\",\"#d44427\",\"#d44427\",\"#b68f79\",\"#d44427\",\"#c84dc9\",\"#3f6d31\",\"#d44427\",\"#d44427\",\"#5e9981\",\"#5e9981\",\"#6d8dca\",\"#d44427\",\"#7fcdd8\",\"#9b9e39\",\"#d44427\",\"#d44427\",\"#7fcdd8\",\"#d44427\",\"#d27c88\",\"#d44427\",\"#e3be38\",\"#c84dc9\",\"#b68f79\",\"#d44427\",\"#6d8dca\",\"#d44427\",\"#52697d\",\"#723bca\",\"#4e2d7c\",\"#d44427\",\"#723bca\",\"#c84dc9\",\"#d44427\",\"#d44427\",\"#5e9981\",\"#d44427\",\"#d44427\",\"#7fcdd8\",\"#d44427\",\"#7fcdd8\",\"#5e9981\",\"#d44427\",\"#d44427\",\"#d44427\",\"#d44427\",\"#d44427\",\"#5e9981\",\"#d44427\",\"#d44427\",\"#d44427\",\"#723bca\",\"#d44427\",\"#68af4e\",\"#d44427\",\"#d44427\",\"#d44427\",\"#d44427\",\"#d44427\",\"#d44427\",\"#d44427\",\"#d44427\",\"#d44427\",\"#d44427\",\"#d44427\",\"#d44427\",\"#d44427\",\"#3f6d31\",\"#d44427\",\"#d44427\",\"#723bca\",\"#d44427\",\"#5e9981\",\"#d07d3c\",\"#c84dc9\",\"#d44427\",\"#5e9981\",\"#d07d3c\",\"#c84dc9\",\"#d44427\",\"#723bca\",\"#d34690\",\"#d44427\",\"#d44427\",\"#7fcdd8\",\"#d44427\",\"#d44427\",\"#723bca\",\"#d44427\",\"#d44427\",\"#d44427\",\"#d44427\",\"#d44427\",\"#d44427\",\"#c3e14c\",\"#d44427\",\"#d44427\",\"#6d8dca\",\"#68af4e\",\"#c84dc9\",\"#7fcdd8\",\"#d44427\",\"#c3e14c\",\"#d44427\",\"#d44427\",\"#d44427\",\"#c88cca\",\"#6d8dca\",\"#d44427\",\"#52697d\",\"#36422b\",\"#d44427\",\"#6d8dca\",\"#d44427\",\"#c84dc9\",\"#68af4e\",\"#d27c88\",\"#69de53\",\"#e3be38\",\"#3f6d31\",\"#d44427\",\"#36422b\",\"#d44427\",\"#d44427\",\"#d44427\",\"#c84dc9\",\"#c84dc9\",\"#6d8dca\",\"#52697d\",\"#d44427\",\"#d44427\",\"#d44427\",\"#d44427\",\"#d44427\",\"#d44427\",\"#d44427\",\"#d44427\",\"#36422b\",\"#d44427\",\"#e3be38\",\"#6e3326\",\"#d44427\",\"#d44427\",\"#d44427\",\"#d44427\",\"#68af4e\",\"#d44427\",\"#d44427\",\"#d44427\",\"#d07d3c\",\"#69de53\",\"#d44427\",\"#d44427\",\"#c84dc9\",\"#d44427\",\"#b68f79\",\"#d27c88\",\"#d44427\",\"#d44427\",\"#c84dc9\",\"#5fdfa8\",\"#e3be38\",\"#d07d3c\",\"#c3e14c\",\"#c84dc9\",\"#d44427\",\"#5fdfa8\",\"#e3be38\",\"#d07d3c\",\"#c3e14c\",\"#c84dc9\",\"#e1c37b\",\"#c84dc9\",\"#3f6d31\",\"#d44427\",\"#c84dc9\",\"#7d6d33\",\"#e1c37b\",\"#cfbdce\",\"#c84dc9\",\"#3f6d31\",\"#c84dc9\",\"#bdd8a3\",\"#d44427\",\"#e1c37b\",\"#cfbdce\",\"#c84dc9\",\"#723bca\",\"#6e6cd5\",\"#bdd8a3\",\"#d44427\",\"#9b9e39\",\"#d44427\",\"#6e6cd5\",\"#bdd8a3\",\"#d44427\",\"#9b9e39\",\"#d44427\",\"#c84dc9\",\"#34223b\",\"#34223b\",\"#d44427\",\"#bdd8a3\",\"#9b9e39\",\"#c84dc9\",\"#34223b\",\"#3f6d31\",\"#34223b\",\"#bdd8a3\",\"#d44427\",\"#d44427\",\"#34223b\",\"#d27c88\",\"#68af4e\",\"#d44427\",\"#d44427\",\"#d44427\",\"#34223b\",\"#d27c88\",\"#68af4e\",\"#c88cca\",\"#d44427\",\"#c84dc9\",\"#d44427\",\"#d44427\",\"#c84dc9\",\"#7fcdd8\",\"#d27c88\",\"#d44427\",\"#d44427\",\"#c84dc9\",\"#d44427\",\"#7fcdd8\",\"#d27c88\",\"#d44427\",\"#d44427\",\"#c84dc9\",\"#69de53\",\"#d44427\",\"#c84dc9\",\"#c84dc9\",\"#c84dc9\",\"#7d6d33\",\"#5fdfa8\",\"#c84dc9\",\"#d27c88\",\"#69de53\",\"#d44427\",\"#d44427\",\"#c84dc9\",\"#d44427\",\"#d44427\",\"#d44427\",\"#723bca\",\"#d44427\",\"#d44427\",\"#9b9e39\",\"#d44427\",\"#c84dc9\",\"#c84dc9\",\"#d44427\",\"#d44427\",\"#d44427\",\"#d44427\",\"#c84dc9\",\"#d44427\",\"#d44427\",\"#d27c88\",\"#c88cca\",\"#c88cca\",\"#c84dc9\",\"#c88cca\",\"#d44427\",\"#d27c88\",\"#c88cca\",\"#c84dc9\",\"#d44427\",\"#9b9e39\",\"#d44427\",\"#d44427\",\"#d44427\",\"#c3e14c\",\"#68af4e\",\"#c84dc9\",\"#d44427\",\"#d44427\",\"#c84dc9\",\"#c84dc9\",\"#c84dc9\",\"#c84dc9\",\"#d44427\",\"#d44427\",\"#68af4e\",\"#d44427\",\"#7d6d33\",\"#d44427\",\"#d44427\",\"#d44427\",\"#d44427\",\"#7d6d33\",\"#d44427\",\"#d27c88\",\"#d34690\",\"#d27c88\",\"#e1c37b\",\"#d44427\",\"#d27c88\",\"#d34690\",\"#d27c88\",\"#e1c37b\",\"#d44427\",\"#d44427\",\"#d27c88\",\"#d44427\",\"#d34690\",\"#d44427\",\"#e1c37b\",\"#d44427\",\"#d44427\",\"#b68f79\",\"#d44427\",\"#d34690\",\"#7d6d33\",\"#d44427\",\"#d44427\",\"#b68f79\",\"#d44427\",\"#d34690\",\"#d27c88\",\"#d44427\",\"#d44427\",\"#c88cca\",\"#d44427\",\"#723bca\",\"#d44427\",\"#9b9e39\",\"#d44427\",\"#d44427\",\"#d44427\",\"#d44427\",\"#9b9e39\",\"#d44427\",\"#c84dc9\",\"#c84dc9\",\"#c84dc9\",\"#d44427\",\"#9b9e39\",\"#7d6d33\",\"#c84dc9\",\"#d44427\",\"#d44427\",\"#723bca\",\"#d44427\",\"#c84dc9\",\"#d44427\",\"#d44427\",\"#d44427\",\"#723bca\",\"#d44427\",\"#c84dc9\",\"#d44427\",\"#d27c88\",\"#d27c88\",\"#d44427\",\"#d44427\",\"#c84dc9\",\"#b68f79\",\"#d44427\",\"#d44427\",\"#d27c88\",\"#c84dc9\",\"#c84dc9\",\"#d44427\",\"#c84dc9\",\"#d44427\",\"#d27c88\",\"#d44427\"],\"line_color\":[\"#d44427\",\"#c3e14c\",\"#4e2d7c\",\"#3f6d31\",\"#6e3326\",\"#cb4053\",\"#7fcdd8\",\"#803a62\",\"#6e3326\",\"#68af4e\",\"#4e2d7c\",\"#b68f79\",\"#6e6cd5\",\"#d07d3c\",\"#3f6d31\",\"#6e3326\",\"#cb4053\",\"#7fcdd8\",\"#803a62\",\"#6e3326\",\"#68af4e\",\"#4e2d7c\",\"#b68f79\",\"#6e6cd5\",\"#d44427\",\"#5e9981\",\"#d07d3c\",\"#e3be38\",\"#6e3326\",\"#d44427\",\"#d07d3c\",\"#d44427\",\"#c88cca\",\"#d44427\",\"#6e3326\",\"#c84dc9\",\"#c84dc9\",\"#d44427\",\"#7fcdd8\",\"#c3e14c\",\"#d44427\",\"#5e9981\",\"#3f6d31\",\"#c84dc9\",\"#cb4053\",\"#d44427\",\"#d44427\",\"#d44427\",\"#d44427\",\"#d44427\",\"#d44427\",\"#d44427\",\"#69de53\",\"#d44427\",\"#d44427\",\"#d44427\",\"#3f6d31\",\"#d44427\",\"#e3be38\",\"#d27c88\",\"#d44427\",\"#d44427\",\"#68af4e\",\"#d44427\",\"#d44427\",\"#d44427\",\"#d44427\",\"#68af4e\",\"#5fdfa8\",\"#68af4e\",\"#e3be38\",\"#d44427\",\"#d27c88\",\"#c84dc9\",\"#d44427\",\"#d44427\",\"#d44427\",\"#d44427\",\"#68af4e\",\"#c84dc9\",\"#d44427\",\"#c3e14c\",\"#d44427\",\"#3f6d31\",\"#d44427\",\"#d44427\",\"#d44427\",\"#d44427\",\"#d44427\",\"#d44427\",\"#cfbdce\",\"#68af4e\",\"#d27c88\",\"#d44427\",\"#68af4e\",\"#d44427\",\"#d44427\",\"#d44427\",\"#c84dc9\",\"#d44427\",\"#d44427\",\"#d44427\",\"#d44427\",\"#68af4e\",\"#d44427\",\"#3f6d31\",\"#c84dc9\",\"#4e2d7c\",\"#5fdfa8\",\"#c84dc9\",\"#d44427\",\"#d27c88\",\"#c88cca\",\"#d07d3c\",\"#d44427\",\"#68af4e\",\"#d44427\",\"#3f6d31\",\"#d44427\",\"#d44427\",\"#5fdfa8\",\"#e3be38\",\"#d44427\",\"#d44427\",\"#d44427\",\"#3f6d31\",\"#6e3326\",\"#cb4053\",\"#7fcdd8\",\"#803a62\",\"#6e3326\",\"#68af4e\",\"#4e2d7c\",\"#b68f79\",\"#6e6cd5\",\"#d44427\",\"#3f6d31\",\"#6e3326\",\"#cb4053\",\"#7fcdd8\",\"#d44427\",\"#c3e14c\",\"#cfbdce\",\"#5fdfa8\",\"#4e2d7c\",\"#c84dc9\",\"#d44427\",\"#c84dc9\",\"#c3e14c\",\"#d44427\",\"#e1c37b\",\"#6e6cd5\",\"#d07d3c\",\"#d44427\",\"#cfbdce\",\"#d07d3c\",\"#c84dc9\",\"#d44427\",\"#d44427\",\"#c84dc9\",\"#52697d\",\"#c84dc9\",\"#d44427\",\"#e1c37b\",\"#6e6cd5\",\"#5fdfa8\",\"#d44427\",\"#d44427\",\"#d44427\",\"#d44427\",\"#d44427\",\"#6e6cd5\",\"#803a62\",\"#c84dc9\",\"#c3e14c\",\"#d07d3c\",\"#e3be38\",\"#4e2d7c\",\"#69de53\",\"#c3e14c\",\"#68af4e\",\"#d44427\",\"#68af4e\",\"#d44427\",\"#d44427\",\"#4e2d7c\",\"#d44427\",\"#d44427\",\"#3f6d31\",\"#36422b\",\"#6e3326\",\"#803a62\",\"#d44427\",\"#d44427\",\"#c3e14c\",\"#69de53\",\"#d44427\",\"#6e3326\",\"#5e9981\",\"#d44427\",\"#36422b\",\"#4e2d7c\",\"#d44427\",\"#d44427\",\"#d44427\",\"#6e3326\",\"#d07d3c\",\"#d44427\",\"#4e2d7c\",\"#69de53\",\"#c3e14c\",\"#36422b\",\"#d44427\",\"#d44427\",\"#52697d\",\"#6e3326\",\"#d07d3c\",\"#d07d3c\",\"#d07d3c\",\"#6e3326\",\"#d44427\",\"#d27c88\",\"#36422b\",\"#d44427\",\"#d44427\",\"#d44427\",\"#d44427\",\"#d44427\",\"#6d8dca\",\"#4e2d7c\",\"#d44427\",\"#d44427\",\"#d07d3c\",\"#d07d3c\",\"#68af4e\",\"#d44427\",\"#d44427\",\"#d44427\",\"#6d8dca\",\"#6d8dca\",\"#d07d3c\",\"#52697d\",\"#3f6d31\",\"#d44427\",\"#d27c88\",\"#d44427\",\"#d44427\",\"#e1c37b\",\"#d44427\",\"#6d8dca\",\"#6d8dca\",\"#d44427\",\"#52697d\",\"#3f6d31\",\"#6d8dca\",\"#6d8dca\",\"#d44427\",\"#68af4e\",\"#d27c88\",\"#d44427\",\"#6d8dca\",\"#6d8dca\",\"#d44427\",\"#52697d\",\"#5e9981\",\"#d44427\",\"#723bca\",\"#d44427\",\"#4e2d7c\",\"#d27c88\",\"#d44427\",\"#d07d3c\",\"#d44427\",\"#c84dc9\",\"#6e3326\",\"#d44427\",\"#d07d3c\",\"#5e9981\",\"#d44427\",\"#d44427\",\"#c84dc9\",\"#723bca\",\"#723bca\",\"#6d8dca\",\"#6d8dca\",\"#d44427\",\"#e3be38\",\"#d44427\",\"#d44427\",\"#d44427\",\"#d44427\",\"#4e2d7c\",\"#d44427\",\"#d44427\",\"#5e9981\",\"#68af4e\",\"#d44427\",\"#68af4e\",\"#6d8dca\",\"#d44427\",\"#e3be38\",\"#d44427\",\"#d44427\",\"#d44427\",\"#68af4e\",\"#68af4e\",\"#5e9981\",\"#c84dc9\",\"#d44427\",\"#d44427\",\"#3f6d31\",\"#d44427\",\"#d44427\",\"#c3e14c\",\"#d44427\",\"#c84dc9\",\"#68af4e\",\"#d44427\",\"#d44427\",\"#9b9e39\",\"#d44427\",\"#6d8dca\",\"#d44427\",\"#d07d3c\",\"#d27c88\",\"#d44427\",\"#d44427\",\"#d44427\",\"#5e9981\",\"#3f6d31\",\"#d44427\",\"#d44427\",\"#6e6cd5\",\"#d44427\",\"#cb4053\",\"#c84dc9\",\"#5fdfa8\",\"#d44427\",\"#6d8dca\",\"#d07d3c\",\"#5e9981\",\"#5e9981\",\"#52697d\",\"#e3be38\",\"#d44427\",\"#d27c88\",\"#6e6cd5\",\"#d44427\",\"#cb4053\",\"#6d8dca\",\"#d44427\",\"#d44427\",\"#68af4e\",\"#d44427\",\"#68af4e\",\"#d44427\",\"#c3e14c\",\"#68af4e\",\"#d44427\",\"#d44427\",\"#6d8dca\",\"#d44427\",\"#5e9981\",\"#68af4e\",\"#d44427\",\"#d27c88\",\"#d44427\",\"#d07d3c\",\"#68af4e\",\"#d44427\",\"#c84dc9\",\"#5e9981\",\"#5fdfa8\",\"#d44427\",\"#e3be38\",\"#68af4e\",\"#d44427\",\"#5e9981\",\"#7fcdd8\",\"#cfbdce\",\"#5fdfa8\",\"#c3e14c\",\"#6d8dca\",\"#d44427\",\"#6d8dca\",\"#e3be38\",\"#7fcdd8\",\"#68af4e\",\"#cfbdce\",\"#c84dc9\",\"#d44427\",\"#b68f79\",\"#d27c88\",\"#d44427\",\"#6d8dca\",\"#d44427\",\"#68af4e\",\"#d07d3c\",\"#68af4e\",\"#d44427\",\"#d44427\",\"#d44427\",\"#d44427\",\"#d44427\",\"#69de53\",\"#d44427\",\"#4e2d7c\",\"#68af4e\",\"#68af4e\",\"#6e3326\",\"#d44427\",\"#cb4053\",\"#cb4053\",\"#d44427\",\"#d44427\",\"#d44427\",\"#d44427\",\"#5fdfa8\",\"#cb4053\",\"#d44427\",\"#6d8dca\",\"#d44427\",\"#cb4053\",\"#d44427\",\"#d44427\",\"#d44427\",\"#d44427\",\"#d44427\",\"#3f6d31\",\"#d44427\",\"#d44427\",\"#d44427\",\"#69de53\",\"#d27c88\",\"#d44427\",\"#68af4e\",\"#5e9981\",\"#e1c37b\",\"#d44427\",\"#d44427\",\"#68af4e\",\"#68af4e\",\"#d27c88\",\"#d44427\",\"#d44427\",\"#d44427\",\"#d44427\",\"#d44427\",\"#d44427\",\"#d44427\",\"#d44427\",\"#c84dc9\",\"#d44427\",\"#36422b\",\"#6e6cd5\",\"#d44427\",\"#68af4e\",\"#d44427\",\"#6d8dca\",\"#7fcdd8\",\"#5fdfa8\",\"#6d8dca\",\"#69de53\",\"#d44427\",\"#d44427\",\"#36422b\",\"#6e6cd5\",\"#d44427\",\"#68af4e\",\"#d44427\",\"#6d8dca\",\"#7fcdd8\",\"#d44427\",\"#d44427\",\"#d27c88\",\"#d44427\",\"#e3be38\",\"#d27c88\",\"#d27c88\",\"#d44427\",\"#d44427\",\"#d44427\",\"#d44427\",\"#d44427\",\"#6d8dca\",\"#d44427\",\"#d27c88\",\"#d44427\",\"#d44427\",\"#c84dc9\",\"#d44427\",\"#d27c88\",\"#c84dc9\",\"#5e9981\",\"#d44427\",\"#d44427\",\"#6e6cd5\",\"#c84dc9\",\"#d44427\",\"#d44427\",\"#d44427\",\"#d27c88\",\"#d44427\",\"#d44427\",\"#c84dc9\",\"#d44427\",\"#d44427\",\"#d44427\",\"#b68f79\",\"#d44427\",\"#e3be38\",\"#d44427\",\"#d44427\",\"#d44427\",\"#d44427\",\"#d44427\",\"#5e9981\",\"#d44427\",\"#d44427\",\"#d44427\",\"#d44427\",\"#e3be38\",\"#68af4e\",\"#d44427\",\"#d44427\",\"#d44427\",\"#b68f79\",\"#d44427\",\"#c84dc9\",\"#3f6d31\",\"#d44427\",\"#d44427\",\"#5e9981\",\"#5e9981\",\"#6d8dca\",\"#d44427\",\"#7fcdd8\",\"#9b9e39\",\"#d44427\",\"#d44427\",\"#7fcdd8\",\"#d44427\",\"#d27c88\",\"#d44427\",\"#e3be38\",\"#c84dc9\",\"#b68f79\",\"#d44427\",\"#6d8dca\",\"#d44427\",\"#52697d\",\"#723bca\",\"#4e2d7c\",\"#d44427\",\"#723bca\",\"#c84dc9\",\"#d44427\",\"#d44427\",\"#5e9981\",\"#d44427\",\"#d44427\",\"#7fcdd8\",\"#d44427\",\"#7fcdd8\",\"#5e9981\",\"#d44427\",\"#d44427\",\"#d44427\",\"#d44427\",\"#d44427\",\"#5e9981\",\"#d44427\",\"#d44427\",\"#d44427\",\"#723bca\",\"#d44427\",\"#68af4e\",\"#d44427\",\"#d44427\",\"#d44427\",\"#d44427\",\"#d44427\",\"#d44427\",\"#d44427\",\"#d44427\",\"#d44427\",\"#d44427\",\"#d44427\",\"#d44427\",\"#d44427\",\"#3f6d31\",\"#d44427\",\"#d44427\",\"#723bca\",\"#d44427\",\"#5e9981\",\"#d07d3c\",\"#c84dc9\",\"#d44427\",\"#5e9981\",\"#d07d3c\",\"#c84dc9\",\"#d44427\",\"#723bca\",\"#d34690\",\"#d44427\",\"#d44427\",\"#7fcdd8\",\"#d44427\",\"#d44427\",\"#723bca\",\"#d44427\",\"#d44427\",\"#d44427\",\"#d44427\",\"#d44427\",\"#d44427\",\"#c3e14c\",\"#d44427\",\"#d44427\",\"#6d8dca\",\"#68af4e\",\"#c84dc9\",\"#7fcdd8\",\"#d44427\",\"#c3e14c\",\"#d44427\",\"#d44427\",\"#d44427\",\"#c88cca\",\"#6d8dca\",\"#d44427\",\"#52697d\",\"#36422b\",\"#d44427\",\"#6d8dca\",\"#d44427\",\"#c84dc9\",\"#68af4e\",\"#d27c88\",\"#69de53\",\"#e3be38\",\"#3f6d31\",\"#d44427\",\"#36422b\",\"#d44427\",\"#d44427\",\"#d44427\",\"#c84dc9\",\"#c84dc9\",\"#6d8dca\",\"#52697d\",\"#d44427\",\"#d44427\",\"#d44427\",\"#d44427\",\"#d44427\",\"#d44427\",\"#d44427\",\"#d44427\",\"#36422b\",\"#d44427\",\"#e3be38\",\"#6e3326\",\"#d44427\",\"#d44427\",\"#d44427\",\"#d44427\",\"#68af4e\",\"#d44427\",\"#d44427\",\"#d44427\",\"#d07d3c\",\"#69de53\",\"#d44427\",\"#d44427\",\"#c84dc9\",\"#d44427\",\"#b68f79\",\"#d27c88\",\"#d44427\",\"#d44427\",\"#c84dc9\",\"#5fdfa8\",\"#e3be38\",\"#d07d3c\",\"#c3e14c\",\"#c84dc9\",\"#d44427\",\"#5fdfa8\",\"#e3be38\",\"#d07d3c\",\"#c3e14c\",\"#c84dc9\",\"#e1c37b\",\"#c84dc9\",\"#3f6d31\",\"#d44427\",\"#c84dc9\",\"#7d6d33\",\"#e1c37b\",\"#cfbdce\",\"#c84dc9\",\"#3f6d31\",\"#c84dc9\",\"#bdd8a3\",\"#d44427\",\"#e1c37b\",\"#cfbdce\",\"#c84dc9\",\"#723bca\",\"#6e6cd5\",\"#bdd8a3\",\"#d44427\",\"#9b9e39\",\"#d44427\",\"#6e6cd5\",\"#bdd8a3\",\"#d44427\",\"#9b9e39\",\"#d44427\",\"#c84dc9\",\"#34223b\",\"#34223b\",\"#d44427\",\"#bdd8a3\",\"#9b9e39\",\"#c84dc9\",\"#34223b\",\"#3f6d31\",\"#34223b\",\"#bdd8a3\",\"#d44427\",\"#d44427\",\"#34223b\",\"#d27c88\",\"#68af4e\",\"#d44427\",\"#d44427\",\"#d44427\",\"#34223b\",\"#d27c88\",\"#68af4e\",\"#c88cca\",\"#d44427\",\"#c84dc9\",\"#d44427\",\"#d44427\",\"#c84dc9\",\"#7fcdd8\",\"#d27c88\",\"#d44427\",\"#d44427\",\"#c84dc9\",\"#d44427\",\"#7fcdd8\",\"#d27c88\",\"#d44427\",\"#d44427\",\"#c84dc9\",\"#69de53\",\"#d44427\",\"#c84dc9\",\"#c84dc9\",\"#c84dc9\",\"#7d6d33\",\"#5fdfa8\",\"#c84dc9\",\"#d27c88\",\"#69de53\",\"#d44427\",\"#d44427\",\"#c84dc9\",\"#d44427\",\"#d44427\",\"#d44427\",\"#723bca\",\"#d44427\",\"#d44427\",\"#9b9e39\",\"#d44427\",\"#c84dc9\",\"#c84dc9\",\"#d44427\",\"#d44427\",\"#d44427\",\"#d44427\",\"#c84dc9\",\"#d44427\",\"#d44427\",\"#d27c88\",\"#c88cca\",\"#c88cca\",\"#c84dc9\",\"#c88cca\",\"#d44427\",\"#d27c88\",\"#c88cca\",\"#c84dc9\",\"#d44427\",\"#9b9e39\",\"#d44427\",\"#d44427\",\"#d44427\",\"#c3e14c\",\"#68af4e\",\"#c84dc9\",\"#d44427\",\"#d44427\",\"#c84dc9\",\"#c84dc9\",\"#c84dc9\",\"#c84dc9\",\"#d44427\",\"#d44427\",\"#68af4e\",\"#d44427\",\"#7d6d33\",\"#d44427\",\"#d44427\",\"#d44427\",\"#d44427\",\"#7d6d33\",\"#d44427\",\"#d27c88\",\"#d34690\",\"#d27c88\",\"#e1c37b\",\"#d44427\",\"#d27c88\",\"#d34690\",\"#d27c88\",\"#e1c37b\",\"#d44427\",\"#d44427\",\"#d27c88\",\"#d44427\",\"#d34690\",\"#d44427\",\"#e1c37b\",\"#d44427\",\"#d44427\",\"#b68f79\",\"#d44427\",\"#d34690\",\"#7d6d33\",\"#d44427\",\"#d44427\",\"#b68f79\",\"#d44427\",\"#d34690\",\"#d27c88\",\"#d44427\",\"#d44427\",\"#c88cca\",\"#d44427\",\"#723bca\",\"#d44427\",\"#9b9e39\",\"#d44427\",\"#d44427\",\"#d44427\",\"#d44427\",\"#9b9e39\",\"#d44427\",\"#c84dc9\",\"#c84dc9\",\"#c84dc9\",\"#d44427\",\"#9b9e39\",\"#7d6d33\",\"#c84dc9\",\"#d44427\",\"#d44427\",\"#723bca\",\"#d44427\",\"#c84dc9\",\"#d44427\",\"#d44427\",\"#d44427\",\"#723bca\",\"#d44427\",\"#c84dc9\",\"#d44427\",\"#d27c88\",\"#d27c88\",\"#d44427\",\"#d44427\",\"#c84dc9\",\"#b68f79\",\"#d44427\",\"#d44427\",\"#d27c88\",\"#c84dc9\",\"#c84dc9\",\"#d44427\",\"#c84dc9\",\"#d44427\",\"#d27c88\",\"#d44427\"]}},\"id\":\"9e244bc3-db19-4f24-bf0e-b26a04ece7fc\",\"type\":\"ColumnDataSource\"},{\"attributes\":{\"plot\":{\"id\":\"ea7dc186-add8-4748-be9f-c3f5848c4926\",\"subtype\":\"Figure\",\"type\":\"Plot\"}},\"id\":\"97162c46-8575-4f15-9e3e-e5f75ef3bab2\",\"type\":\"SaveTool\"},{\"attributes\":{\"fill_color\":{\"field\":\"fill_color\"},\"line_color\":{\"field\":\"line_color\"},\"x\":{\"field\":\"x\"},\"y\":{\"field\":\"y\"}},\"id\":\"c36b01cb-cd96-4d27-a38a-0c527d3fed9a\",\"type\":\"Circle\"},{\"attributes\":{\"plot\":{\"id\":\"ea7dc186-add8-4748-be9f-c3f5848c4926\",\"subtype\":\"Figure\",\"type\":\"Plot\"}},\"id\":\"dad72c83-bec3-45a9-bec8-5cee23b535b0\",\"type\":\"ResetTool\"},{\"attributes\":{\"bottom_units\":\"screen\",\"fill_alpha\":{\"value\":0.5},\"fill_color\":{\"value\":\"lightgrey\"},\"left_units\":\"screen\",\"level\":\"overlay\",\"line_alpha\":{\"value\":1.0},\"line_color\":{\"value\":\"black\"},\"line_dash\":[4,4],\"line_width\":{\"value\":2},\"plot\":null,\"render_mode\":\"css\",\"right_units\":\"screen\",\"top_units\":\"screen\"},\"id\":\"8b626cc7-60ed-4cc8-88b1-75a688d258d8\",\"type\":\"BoxAnnotation\"},{\"attributes\":{\"active_drag\":\"auto\",\"active_scroll\":\"auto\",\"active_tap\":\"auto\",\"tools\":[{\"id\":\"266e6614-813a-48d4-8b10-6e7b518d984f\",\"type\":\"PanTool\"},{\"id\":\"8704aba3-e824-44a1-89ea-968022a086f4\",\"type\":\"WheelZoomTool\"},{\"id\":\"177731ad-37cd-43a1-b420-6d7f436a0f6c\",\"type\":\"BoxZoomTool\"},{\"id\":\"dad72c83-bec3-45a9-bec8-5cee23b535b0\",\"type\":\"ResetTool\"},{\"id\":\"2093ce4f-7333-4537-a7e0-e9e3e05aeb55\",\"type\":\"HoverTool\"},{\"id\":\"97162c46-8575-4f15-9e3e-e5f75ef3bab2\",\"type\":\"SaveTool\"}]},\"id\":\"a113c12d-1263-4623-8931-d8042bda2930\",\"type\":\"Toolbar\"}],\"root_ids\":[\"ea7dc186-add8-4748-be9f-c3f5848c4926\"]},\"title\":\"Bokeh Application\",\"version\":\"0.12.1\"}};\n",
       "            var render_items = [{\"docid\":\"16398bff-c7f2-4b49-a2f7-fdd077ac5644\",\"elementid\":\"47120f23-4e05-41e1-9f78-223199bfbbb8\",\"modelid\":\"ea7dc186-add8-4748-be9f-c3f5848c4926\",\"notebook_comms_target\":\"7a5163dd-f204-451a-b3fd-8e3cfff1d514\"}];\n",
       "            \n",
       "            Bokeh.embed.embed_items(docs_json, render_items);\n",
       "        });\n",
       "      },\n",
       "      function(Bokeh) {\n",
       "      }\n",
       "    ];\n",
       "  \n",
       "    function run_inline_js() {\n",
       "      for (var i = 0; i < inline_js.length; i++) {\n",
       "        inline_js[i](window.Bokeh);\n",
       "      }\n",
       "    }\n",
       "  \n",
       "    if (window._bokeh_is_loading === 0) {\n",
       "      console.log(\"Bokeh: BokehJS loaded, going straight to plotting\");\n",
       "      run_inline_js();\n",
       "    } else {\n",
       "      load_libs(js_urls, function() {\n",
       "        console.log(\"Bokeh: BokehJS plotting callback run at\", now());\n",
       "        run_inline_js();\n",
       "      });\n",
       "    }\n",
       "  }(this));\n",
       "</script>"
      ]
     },
     "metadata": {},
     "output_type": "display_data"
    },
    {
     "data": {
      "text/html": [
       "<p><code>&lt;Bokeh Notebook handle for <strong>In[52]</strong>&gt;</code></p>"
      ],
      "text/plain": [
       "<bokeh.io._CommsHandle at 0x111790b8>"
      ]
     },
     "execution_count": 52,
     "metadata": {},
     "output_type": "execute_result"
    }
   ],
   "source": [
    "hover = plot_kmeans.select(dict(type=HoverTool))\n",
    "hover.tooltips={\"description\": \"@description\", \"author\": \"@author\", \"cluster\":\"@cluster\"}\n",
    "show(plot_kmeans)"
   ]
  },
  {
   "cell_type": "code",
   "execution_count": null,
   "metadata": {
    "collapsed": true
   },
   "outputs": [],
   "source": []
  }
 ],
 "metadata": {
  "kernelspec": {
   "display_name": "Python 3",
   "language": "python",
   "name": "python3"
  },
  "language_info": {
   "codemirror_mode": {
    "name": "ipython",
    "version": 3
   },
   "file_extension": ".py",
   "mimetype": "text/x-python",
   "name": "python",
   "nbconvert_exporter": "python",
   "pygments_lexer": "ipython3",
   "version": "3.4.4"
  }
 },
 "nbformat": 4,
 "nbformat_minor": 1
}
